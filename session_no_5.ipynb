{
 "cells": [
  {
   "cell_type": "markdown",
   "id": "d12f71fd",
   "metadata": {},
   "source": [
    "## Session No: 5 --> Tuples, Sets, Dictionary in Python\n",
    "## This Notebook is Presented By: **Azeem Yaseen**\n",
    "## Date: 3 - 09 - 2025\n",
    "## Email: azeemyaseen739@gmail.com"
   ]
  },
  {
   "cell_type": "markdown",
   "id": "6d334097",
   "metadata": {},
   "source": [
    "### 1. Tuples\n",
    " - A tuple in Python is similar to a list. The main difference between the two is that we cannot change the elements of a tuple once it is assigned whereas we change the elements of a list.\n",
    "\n",
    " - In short, a tuple is an immutable list. A tuple can not be changes in any way once it is created.\n",
    "\n",
    "**The Core Characterstics:**\n",
    " - Ordered\n",
    " - Unchangeable\n",
    " - Allows Duplicate Values\n"
   ]
  },
  {
   "cell_type": "markdown",
   "id": "9b019843",
   "metadata": {},
   "source": [
    "### 2. Plan of Attack\n",
    " - Creating  a Tuple\n",
    " - Accessing items\n",
    " - Editing items\n",
    " - Adding items\n",
    " - Deleting items\n",
    " - Operations on Tuples\n",
    " - Tuple Function"
   ]
  },
  {
   "cell_type": "markdown",
   "id": "62ce4e2c",
   "metadata": {},
   "source": [
    "##### a. Creating a Tuple:"
   ]
  },
  {
   "cell_type": "code",
   "execution_count": 9,
   "id": "6c3ac6ce",
   "metadata": {},
   "outputs": [
    {
     "name": "stdout",
     "output_type": "stream",
     "text": [
      "()\n",
      "2\n",
      "<class 'int'>\n",
      "(2,)\n",
      "<class 'tuple'>\n",
      "(1, 2, 3, 4, 5)\n",
      "(1, True, 'hello', 3.5, None)\n",
      "(1, 2, 3, (4, 5))\n",
      "('h', 'e', 'l', 'l', 'o')\n"
     ]
    }
   ],
   "source": [
    "# empty tuple\n",
    "t1 = ()\n",
    "print(t1)\n",
    "# how to create a tuple with a single item, this is bit different, because if we add single item\n",
    "# like 2 in parenthesis, then python deal it is as a integer, so to make a tuple with a single\n",
    "# item we use the comma after a value\n",
    "# wrong way\n",
    "t2 = (2)\n",
    "print(t2)\n",
    "print(type(t2))\n",
    "# right way\n",
    "t2 = (2,)\n",
    "print(t2)\n",
    "print(type(t2))\n",
    "# homogenous tuple\n",
    "t3 = (1,2,3,4,5)\n",
    "print(t3)\n",
    "# hetrogeneous tuple\n",
    "t4 = (1,True,'hello',3.5,None)\n",
    "print(t4)\n",
    "# 2D tuple\n",
    "t5 = (1,2,3,(4,5))\n",
    "print(t5)\n",
    "# making tuple with built-in function\n",
    "t6 = tuple('hello')\n",
    "print(t6)"
   ]
  },
  {
   "cell_type": "markdown",
   "id": "0c6f0d38",
   "metadata": {},
   "source": [
    "##### b. Accessing items:\n",
    " - Indexing\n",
    " - Slicing"
   ]
  },
  {
   "cell_type": "code",
   "execution_count": null,
   "id": "9582cadc",
   "metadata": {},
   "outputs": [
    {
     "name": "stdout",
     "output_type": "stream",
     "text": [
      "1\n",
      "5\n",
      "(1, 2, 3, 4)\n",
      "(1, 3)\n",
      "(2, 3, 4)\n",
      "(5, 4, 3, 2, 1)\n",
      "(3, 4, 5)\n",
      "4\n"
     ]
    }
   ],
   "source": [
    "t3 = (1,2,3,4,5)\n",
    "print(t3[0]) # positive indexing\n",
    "print(t3[-1]) # negative indexing\n",
    "print(t3[0:4]) # positive slicing\n",
    "print(t3[0:4:2]) # 2 is the step size\n",
    "print(t3[-4:-1]) # negative slicing\n",
    "print(t3[::-1]) # reverse the tuple\n",
    "print(t3[-3])\n",
    "t5 = (1,2,3,(4,5))\n",
    "print(t5[3][0]) # double sqaure brackets"
   ]
  },
  {
   "cell_type": "markdown",
   "id": "2925bd99",
   "metadata": {},
   "source": [
    "##### c. Editing items:"
   ]
  },
  {
   "cell_type": "code",
   "execution_count": null,
   "id": "319a6993",
   "metadata": {},
   "outputs": [],
   "source": [
    "t3 = (1,2,3,4,5)\n",
    "t3[0] = 100 # through error\n",
    "# tuples are immutable just like strings"
   ]
  },
  {
   "cell_type": "markdown",
   "id": "3e5c0e99",
   "metadata": {},
   "source": [
    "##### d. Adding items:"
   ]
  },
  {
   "cell_type": "code",
   "execution_count": null,
   "id": "f776ea79",
   "metadata": {},
   "outputs": [],
   "source": [
    "t3 = (1,2,3,4,5)\n",
    "t3[1] = 200 # through error\n",
    "# tuples are immutable just like strings, in list you know there are functions that can add\n",
    "# items like append, extend but if we add item in the tuple then python declare a change in the\n",
    "# tuple don't allow"
   ]
  },
  {
   "cell_type": "markdown",
   "id": "e698816c",
   "metadata": {},
   "source": [
    "##### e. Deleting items:"
   ]
  },
  {
   "cell_type": "code",
   "execution_count": null,
   "id": "5b91ae8f",
   "metadata": {},
   "outputs": [],
   "source": [
    "# we are able to delete the whole tuple but not able to delete an item\n",
    "t3 = (1,2,3,4,5)\n",
    "del t3\n",
    "t3 = (1,2,3,4,5)\n",
    "del t3[0] # through an error"
   ]
  },
  {
   "cell_type": "markdown",
   "id": "a54d6aad",
   "metadata": {},
   "source": [
    "##### f. Operations on Tuples:"
   ]
  },
  {
   "cell_type": "code",
   "execution_count": 31,
   "id": "7e59b9a6",
   "metadata": {},
   "outputs": [
    {
     "name": "stdout",
     "output_type": "stream",
     "text": [
      "(1, 2, 3, 4, 5, 6, 7, 8, 9, 10)\n",
      "(1, 2, 3, 4, 5, 1, 2, 3, 4, 5)\n",
      "True\n",
      "True\n",
      "1\n",
      "2\n",
      "3\n",
      "4\n",
      "5\n"
     ]
    }
   ],
   "source": [
    "# Arithematic (+ & *)\n",
    "t1 = (1,2,3,4,5)\n",
    "t2 = (6,7,8,9,10)\n",
    "print(t1 + t2) # merge both tuples together\n",
    "print(t1*2) # multiple the tuple with tuple and the items can merge together\n",
    "# Membership (in & not in)\n",
    "print(1 in t1)\n",
    "print(1 not in t2)\n",
    "# loop (for)\n",
    "for i in t1:\n",
    "    print(i)"
   ]
  },
  {
   "cell_type": "markdown",
   "id": "3d23f4bd",
   "metadata": {},
   "source": [
    "##### g. Tuple functions:"
   ]
  },
  {
   "cell_type": "code",
   "execution_count": null,
   "id": "18e2fed8",
   "metadata": {},
   "outputs": [
    {
     "name": "stdout",
     "output_type": "stream",
     "text": [
      "5\n",
      "1\n",
      "5\n",
      "15\n",
      "[5, 4, 3, 2, 1]\n"
     ]
    }
   ],
   "source": [
    "# len/min/sum/max/sorted\n",
    "t1 = (1,2,3,4,5)\n",
    "print(len(t1))\n",
    "print(min(t1))\n",
    "print(max(t1))\n",
    "print(sum(t1))\n",
    "print(sorted(t1, reverse=True)) # sorting always be in lis"
   ]
  },
  {
   "cell_type": "code",
   "execution_count": null,
   "id": "7ad705ef",
   "metadata": {},
   "outputs": [
    {
     "name": "stdout",
     "output_type": "stream",
     "text": [
      "1\n",
      "4\n"
     ]
    }
   ],
   "source": [
    "# count function & index function --> tuple specific\n",
    "print(t1.count(5)) # tell the ocurrence of an item\n",
    "print(t1.index(5)) # tell the index of an item"
   ]
  },
  {
   "cell_type": "markdown",
   "id": "73b9a239",
   "metadata": {},
   "source": [
    "### 3. Difference between Lists and Tuples\n",
    " - Syntax (tuple contain parentheis whereas list contain square brackets)\n",
    " - Mutability (tuple are immutable and list are mutable, core difference)\n",
    " - Speed \n",
    " - Memory\n",
    " - Built-in Functionality (tuple contain less function as compare to list)\n",
    " - Error prone (debugging is headache in list, but tuple through less errors)\n",
    " - Usability (the programmer use tuple where he know user don't make changes, use list when he know user make changes again and again)."
   ]
  },
  {
   "cell_type": "code",
   "execution_count": 48,
   "id": "fce60ec6",
   "metadata": {},
   "outputs": [
    {
     "name": "stdout",
     "output_type": "stream",
     "text": [
      "List time 3.388899087905884\n",
      "Tuple time 3.306030750274658\n"
     ]
    }
   ],
   "source": [
    "# Tuples are more fast then list, because generally immutable data types are more fast then\n",
    "# mutable data types\n",
    "import time \n",
    "\n",
    "L = list(range(10000000))\n",
    "T = tuple(range(10000000))\n",
    "\n",
    "start = time.time()\n",
    "for i in L:\n",
    "  i*5\n",
    "print('List time',time.time()-start)\n",
    "\n",
    "start = time.time()\n",
    "for i in T:\n",
    "  i*5\n",
    "print('Tuple time',time.time()-start)"
   ]
  },
  {
   "cell_type": "code",
   "execution_count": 45,
   "id": "6f5d226e",
   "metadata": {},
   "outputs": [
    {
     "name": "stdout",
     "output_type": "stream",
     "text": [
      "List size 8056\n",
      "Tuple size 8040\n"
     ]
    }
   ],
   "source": [
    "# tuple is more space efficient then list\n",
    "import sys\n",
    "\n",
    "L = list(range(1000))\n",
    "T = tuple(range(1000))\n",
    "\n",
    "print('List size',sys.getsizeof(L))\n",
    "print('Tuple size',sys.getsizeof(T))"
   ]
  },
  {
   "cell_type": "code",
   "execution_count": null,
   "id": "e7188114",
   "metadata": {},
   "outputs": [
    {
     "name": "stdout",
     "output_type": "stream",
     "text": [
      "[1, 2, 3, 4]\n",
      "[1, 2, 3, 4]\n",
      "(1, 2, 3, 5)\n",
      "(1, 2, 3)\n"
     ]
    }
   ],
   "source": [
    "# list are mutable that's why we see this strange response, so debugging is difficult in list\n",
    "# as compare to tuple\n",
    "a = [1,2,3]\n",
    "b = a\n",
    "a.append(4)\n",
    "print(a)\n",
    "print(b)\n",
    "# the tuple don't show any strange behaviour because it don't allow changes\n",
    "a = (1,2,3)\n",
    "b = a\n",
    "a = a + (5,)\n",
    "print(a)\n",
    "print(b)"
   ]
  },
  {
   "cell_type": "markdown",
   "id": "54baebfd",
   "metadata": {},
   "source": [
    "##### Special Syntax:"
   ]
  },
  {
   "cell_type": "code",
   "execution_count": null,
   "id": "c9dbc0e0",
   "metadata": {},
   "outputs": [
    {
     "name": "stdout",
     "output_type": "stream",
     "text": [
      "1 2 3\n",
      "2 1\n",
      "1 2 3\n"
     ]
    }
   ],
   "source": [
    "# tuple unpacking\n",
    "a,b,c = (1,2,3)\n",
    "print(a,b,c)\n",
    "# famous swapping syntax\n",
    "a = 1\n",
    "b = 2\n",
    "a,b = b,a\n",
    "print(a,b)"
   ]
  },
  {
   "cell_type": "code",
   "execution_count": null,
   "id": "6ce25eea",
   "metadata": {},
   "outputs": [
    {
     "name": "stdout",
     "output_type": "stream",
     "text": [
      "1 2\n",
      "[3, 4]\n"
     ]
    }
   ],
   "source": [
    "# this functionality help us to store those value that we need\n",
    "a,b,*others = (1,2,3,4)\n",
    "print(a,b)\n",
    "print(others)"
   ]
  },
  {
   "cell_type": "code",
   "execution_count": 55,
   "id": "96664f01",
   "metadata": {},
   "outputs": [
    {
     "name": "stdout",
     "output_type": "stream",
     "text": [
      "((1, 4), (2, 5), (3, 6))\n"
     ]
    }
   ],
   "source": [
    "# zipping tuples\n",
    "t1 = (1,2,3)\n",
    "t2 = (4,5,6)\n",
    "print(tuple(zip(t1,t2)))"
   ]
  },
  {
   "cell_type": "markdown",
   "id": "ff4a8dc5",
   "metadata": {},
   "source": [
    "### 4. Sets\n",
    " - A set is an unordered collection of items. Every set element is unique (no duplicate) and must be immutable (cannot be changed).\n",
    "\n",
    " - However, a set itself is a mutable. We can add or remove items from it.\n",
    "\n",
    " - Sets can also be used to perform mathematical set operations like union, intersections, symmetric, difference, etc.\n",
    "\n",
    "**Core Characterstics:**\n",
    " - Unordered\n",
    " - Mutable\n",
    " - No Duplicate\n",
    " - Can't contain mutable data types"
   ]
  },
  {
   "cell_type": "markdown",
   "id": "a4dc009d",
   "metadata": {},
   "source": [
    "##### a. Creating Sets:"
   ]
  },
  {
   "cell_type": "code",
   "execution_count": 73,
   "id": "29b6ea6d",
   "metadata": {},
   "outputs": [
    {
     "name": "stdout",
     "output_type": "stream",
     "text": [
      "set()\n",
      "<class 'set'>\n",
      "{1, 2, 3}\n",
      "{1, 2, 3, 4, 5}\n",
      "{1, 3.5, 'hello', (1, 2, 3)}\n",
      "{1, 2, 3}\n",
      "{1, 2, 3}\n"
     ]
    }
   ],
   "source": [
    "# empty set\n",
    "s = set() # if you use empty curly braces to make a empty set then python by default make it dict\n",
    "print(s)\n",
    "print(type(s))\n",
    "# 1D & 2D set\n",
    "s1 = {1,2,3}\n",
    "print(s1)\n",
    "# python through an error because tuple don't allowed mutable items inside\n",
    "# s2 = {1,2,3,{4,5}}\n",
    "# print(s2)\n",
    "# homogenous and hetrogenous\n",
    "s1 = {1,2,3,4,5}\n",
    "print(s1)\n",
    "# in the output we don't see the value of true because python consider true as 1, so 1 also present\n",
    "# in the set. So, set don't allow duplicates that's why it remove true.\n",
    "# We also see a different order, there is a algorithm hashing that decide the place of every item\n",
    "# so it is not in our hand, it is by default\n",
    "s1 = {1,'hello',3.5,True,(1,2,3)}\n",
    "print(s1)\n",
    "# creating tuple with built in function\n",
    "s1 = set([1,2,3])\n",
    "print(s1)\n",
    "# duplicates not allowed\n",
    "s1 = {1,2,3,1,2,3}\n",
    "print(s1)\n",
    "# set can't have mutable items\n",
    "# s1 = {1,2,3,[1,2,3]}\n",
    "# print(s1) through an error"
   ]
  },
  {
   "cell_type": "code",
   "execution_count": 75,
   "id": "8e33d983",
   "metadata": {},
   "outputs": [
    {
     "name": "stdout",
     "output_type": "stream",
     "text": [
      "True\n"
     ]
    }
   ],
   "source": [
    "# order don't matter in sets\n",
    "s1 = {1,2,3}\n",
    "s2 = {3,2,1}\n",
    "print(s1 == s2)"
   ]
  },
  {
   "cell_type": "markdown",
   "id": "70565e2e",
   "metadata": {},
   "source": [
    "##### b. Accessing items:"
   ]
  },
  {
   "cell_type": "code",
   "execution_count": null,
   "id": "fad71eb7",
   "metadata": {},
   "outputs": [],
   "source": [
    "# sets are unordered, that's why the indexing and slicing not work and python through an error\n",
    "# It means if the item go in sets then we don't able to extract it or see it separately.\n",
    "s1 = {1,2,3}\n",
    "print(s1[0]) # through an error"
   ]
  },
  {
   "cell_type": "markdown",
   "id": "a368edee",
   "metadata": {},
   "source": [
    "##### c. Editing items:"
   ]
  },
  {
   "cell_type": "code",
   "execution_count": null,
   "id": "b5d51e73",
   "metadata": {},
   "outputs": [],
   "source": [
    "# sets are unordered that's why indexing not work, and if indexing not work then we are don't\n",
    "# able to change any item on the bases of index in the set.\n",
    "s1 = {1,2,3,4}\n",
    "s1[0] = 100 # python through an error"
   ]
  },
  {
   "cell_type": "markdown",
   "id": "a8befd27",
   "metadata": {},
   "source": [
    "##### d. Adding items:"
   ]
  },
  {
   "cell_type": "code",
   "execution_count": null,
   "id": "63b490bf",
   "metadata": {},
   "outputs": [
    {
     "name": "stdout",
     "output_type": "stream",
     "text": [
      "{1, 2, 3, 4, 5}\n",
      "{1, 2, 3, 4, 5, 6, 7}\n"
     ]
    }
   ],
   "source": [
    "# add function, allow to add one item, and hashing control the place of the element in the set\n",
    "s1 = {1,2,3,4}\n",
    "s1.add(5)\n",
    "print(s1)\n",
    "# update function, allow to add multiple items in a set\n",
    "s1.update([5,6,7])\n",
    "print(s1)"
   ]
  },
  {
   "cell_type": "markdown",
   "id": "2beac546",
   "metadata": {},
   "source": [
    "##### e. Deleting items:"
   ]
  },
  {
   "cell_type": "code",
   "execution_count": 88,
   "id": "f4e4a2a8",
   "metadata": {},
   "outputs": [
    {
     "name": "stdout",
     "output_type": "stream",
     "text": [
      "{1, 2, 3, 4}\n",
      "{1, 2, 3, 4}\n",
      "{2, 3, 4, 5}\n",
      "set()\n"
     ]
    }
   ],
   "source": [
    "# del\n",
    "s1 = {1,2,3,4,5}\n",
    "del s1\n",
    "# del s1[0] python don't allow to delete the particular value because indexing not work\n",
    "# discard, allow to remove the particular item directly from the set\n",
    "s1 = {1,2,3,4,5}\n",
    "s1.discard(5)\n",
    "s1.discard(50) # if the value is don't present in the set, then it don't through an error\n",
    "print(s1)\n",
    "# remove is similar to discard, but it through an error for the not present value\n",
    "s1 = {1,2,3,4,5}\n",
    "s1.remove(5)\n",
    "# s1.remove(50)\n",
    "print(s1)\n",
    "# pop, it remove the item with their decision\n",
    "s1 = {1,2,3,4,5}\n",
    "s1.pop()\n",
    "print(s1)\n",
    "# clear, make the set empty\n",
    "s1 = {1,2,3,4}\n",
    "s1.clear()\n",
    "print(s1)\n"
   ]
  },
  {
   "cell_type": "markdown",
   "id": "d953d7f0",
   "metadata": {},
   "source": [
    "##### f. Set Operation:"
   ]
  },
  {
   "cell_type": "code",
   "execution_count": 10,
   "id": "044bc3db",
   "metadata": {},
   "outputs": [
    {
     "name": "stdout",
     "output_type": "stream",
     "text": [
      "{1, 2, 3, 4, 5, 6, 7, 8}\n",
      "{4, 5}\n",
      "{1, 2, 3}\n",
      "{1, 2, 3, 6, 7, 8}\n",
      "True\n",
      "False\n",
      "1 2 3 4 5 "
     ]
    }
   ],
   "source": [
    "s1 = {1,2,3,4,5}\n",
    "s2 = {4,5,6,7,8}\n",
    "# union (|) -> all the items that come once, no duplicates\n",
    "print(s1 | s2)\n",
    "# intersection (&) -> common items only\n",
    "print(s1 & s2)\n",
    "# difference (-) -> s1 items that don't present in s2, and viceversa\n",
    "print(s1 - s2)\n",
    "# Symmetric Difference (^) -> left the commons in both, and print remanining\n",
    "print(s1 ^ s2)\n",
    "# Membership test\n",
    "print(1 in s1)\n",
    "print(1 not in s1)\n",
    "# Iteration\n",
    "for i in s1:\n",
    "    print(i,end=' ')"
   ]
  },
  {
   "cell_type": "markdown",
   "id": "b5377769",
   "metadata": {},
   "source": [
    "##### g. Set Functions:"
   ]
  },
  {
   "cell_type": "code",
   "execution_count": 17,
   "id": "e60e9abf",
   "metadata": {},
   "outputs": [
    {
     "name": "stdout",
     "output_type": "stream",
     "text": [
      "6\n",
      "1\n",
      "8\n",
      "29\n",
      "[8, 7, 6, 4, 3, 1]\n"
     ]
    }
   ],
   "source": [
    "# len/min/max/sum/sorted\n",
    "s1 = {3,4,8,6,1,8,7}\n",
    "print(len(s1))\n",
    "print(min(s1))\n",
    "print(max(s1))\n",
    "print(sum(s1))\n",
    "print(sorted(s1,reverse=True))"
   ]
  },
  {
   "cell_type": "code",
   "execution_count": null,
   "id": "0bcf524a",
   "metadata": {},
   "outputs": [
    {
     "name": "stdout",
     "output_type": "stream",
     "text": [
      "{1, 2, 3, 4, 5, 6, 7, 8}\n",
      "{1, 2, 3, 4, 5, 6, 7, 8}\n",
      "{4, 5, 6, 7, 8}\n"
     ]
    }
   ],
   "source": [
    "# union / update\n",
    "s1 = {1,2,3,4,5}\n",
    "s2 = {4,5,6,7,8}\n",
    "print(s1.union(s2))\n",
    "# update function can make a permanent change in s1 they include the union result in s1 and\n",
    "# left s2 the same\n",
    "s1.update(s2)\n",
    "print(s1)\n",
    "print(s2)"
   ]
  },
  {
   "cell_type": "code",
   "execution_count": null,
   "id": "78090383",
   "metadata": {},
   "outputs": [
    {
     "name": "stdout",
     "output_type": "stream",
     "text": [
      "{4, 5}\n",
      "{4, 5}\n",
      "{4, 5, 6, 7, 8}\n"
     ]
    }
   ],
   "source": [
    "# intersection / intersection_update\n",
    "s1 = {1,2,3,4,5}\n",
    "s2 = {4,5,6,7,8}\n",
    "print(s1.intersection(s2))\n",
    "# intersection_update can make a permanent change in s1 by including the intersection result\n",
    "# in s1 and left s2 the same\n",
    "s1.intersection_update(s2)\n",
    "print(s1)\n",
    "print(s2)"
   ]
  },
  {
   "cell_type": "code",
   "execution_count": null,
   "id": "95550a1b",
   "metadata": {},
   "outputs": [
    {
     "name": "stdout",
     "output_type": "stream",
     "text": [
      "{1, 2, 3}\n",
      "{1, 2, 3}\n",
      "{4, 5, 6, 7, 8}\n"
     ]
    }
   ],
   "source": [
    "# difference / difference_update\n",
    "s1 = {1,2,3,4,5}\n",
    "s2 = {4,5,6,7,8}\n",
    "print(s1.difference(s2))\n",
    "# difference_update can make a permanent change in s1 by including the difference result\n",
    "# in s1 and left s2 the same\n",
    "s1.difference_update(s2)\n",
    "print(s1)\n",
    "print(s2)"
   ]
  },
  {
   "cell_type": "code",
   "execution_count": 29,
   "id": "b54986ca",
   "metadata": {},
   "outputs": [
    {
     "name": "stdout",
     "output_type": "stream",
     "text": [
      "{1, 2, 3, 6, 7, 8}\n",
      "{1, 2, 3, 6, 7, 8}\n",
      "{4, 5, 6, 7, 8}\n"
     ]
    }
   ],
   "source": [
    "# symmetric_difference / symmetric_difference_update\n",
    "s1 = {1,2,3,4,5}\n",
    "s2 = {4,5,6,7,8}\n",
    "print(s1.symmetric_difference(s2))\n",
    "# symmetric_difference_update can make a permanent change in s1 by including the symmetric_difference\n",
    "# result in s1 and left s2 the same\n",
    "s1.symmetric_difference_update(s2)\n",
    "print(s1)\n",
    "print(s2)"
   ]
  },
  {
   "cell_type": "code",
   "execution_count": null,
   "id": "af85ef65",
   "metadata": {},
   "outputs": [
    {
     "name": "stdout",
     "output_type": "stream",
     "text": [
      "True\n"
     ]
    }
   ],
   "source": [
    "# isdisjoint function\n",
    "s1 = {1,2,3,4}\n",
    "s2 = {7,8,5,6}\n",
    "# this function tell that both sets have common values or not, say true > no common values exist\n",
    "print(s1.isdisjoint(s2))"
   ]
  },
  {
   "cell_type": "code",
   "execution_count": null,
   "id": "2836dedd",
   "metadata": {},
   "outputs": [
    {
     "name": "stdout",
     "output_type": "stream",
     "text": [
      "False\n"
     ]
    }
   ],
   "source": [
    "# issubset function\n",
    "s1 = {1,2,3,4,5}\n",
    "s2 = {3,4,5}\n",
    "# this function tell that s1 not become the subset of s2, because of 1 and 2 values, that don't\n",
    "# exist in s2, if it is alternative then s2 is able to become subset of s1.\n",
    "print(s1.issubset(s2))"
   ]
  },
  {
   "cell_type": "code",
   "execution_count": null,
   "id": "e1921276",
   "metadata": {},
   "outputs": [
    {
     "name": "stdout",
     "output_type": "stream",
     "text": [
      "False\n"
     ]
    }
   ],
   "source": [
    "# issuperset function\n",
    "s1 = {1,2,3,4,5}\n",
    "s2 = {3,4,5}\n",
    "# this function tells that s1 is a superset as compare to s2, because s1 contain more values\n",
    "print(s1.issuperset(s2))"
   ]
  },
  {
   "cell_type": "code",
   "execution_count": 40,
   "id": "f1090e08",
   "metadata": {},
   "outputs": [
    {
     "name": "stdout",
     "output_type": "stream",
     "text": [
      "{1, 2, 3}\n",
      "{1, 2, 3}\n"
     ]
    }
   ],
   "source": [
    "# copy function\n",
    "s1 = {1,2,3}\n",
    "s2 = s1.copy()\n",
    "print(s1)\n",
    "print(s2)"
   ]
  },
  {
   "cell_type": "markdown",
   "id": "dd909add",
   "metadata": {},
   "source": [
    "### 5. Frozenset\n",
    " - Frozen set is just an immutable version of a Python set object"
   ]
  },
  {
   "cell_type": "code",
   "execution_count": 42,
   "id": "ffa82e2f",
   "metadata": {},
   "outputs": [
    {
     "name": "stdout",
     "output_type": "stream",
     "text": [
      "frozenset({1, 2, 3})\n"
     ]
    }
   ],
   "source": [
    "# create frozenset\n",
    "fs = frozenset([1,2,3])\n",
    "print(fs)"
   ]
  },
  {
   "cell_type": "code",
   "execution_count": null,
   "id": "d747beec",
   "metadata": {},
   "outputs": [],
   "source": [
    "# what works and what does not\n",
    "# works --> all read functions\n",
    "# doesn't work --> write operations"
   ]
  },
  {
   "cell_type": "code",
   "execution_count": 53,
   "id": "704af5ab",
   "metadata": {},
   "outputs": [
    {
     "name": "stdout",
     "output_type": "stream",
     "text": [
      "frozenset({frozenset({3, 4}), 1, 2})\n"
     ]
    }
   ],
   "source": [
    "# when to use frozenset: Use sets when the mutability is required & use frozenset where\n",
    "# immutability is required\n",
    "# 2D frozenset\n",
    "fs = frozenset([1,2,frozenset([3,4])])\n",
    "print(fs)"
   ]
  },
  {
   "cell_type": "markdown",
   "id": "e6d2268d",
   "metadata": {},
   "source": [
    "### 6. Set Comprehension"
   ]
  },
  {
   "cell_type": "code",
   "execution_count": null,
   "id": "654b3443",
   "metadata": {},
   "outputs": [
    {
     "data": {
      "text/plain": [
       "{36, 49, 64, 81, 100}"
      ]
     },
     "execution_count": 57,
     "metadata": {},
     "output_type": "execute_result"
    }
   ],
   "source": [
    "# example\n",
    "{i**2 for i in range(1,11) if i > 5}"
   ]
  },
  {
   "cell_type": "markdown",
   "id": "02ef4a9b",
   "metadata": {},
   "source": [
    "### 7. Dictionary\n",
    " - Dictionary in Python is a collection of keys values, used to store data values like a map, which unlike other data types which hold only a single value as an element.\n",
    "\n",
    " - In some languages it is known as map or assosiative arrays.\n",
    "\n",
    " - Dict = {'name':'azeem','age':18,'gender':'male'}\n",
    "\n",
    "**Characterstics:**\n",
    " - Mutable\n",
    " - Indexing has no meaning\n",
    " - keys can't be duplicated\n",
    " - keys can't be mutable items"
   ]
  },
  {
   "cell_type": "markdown",
   "id": "aa417157",
   "metadata": {},
   "source": [
    "##### a. Creating Dictionary:"
   ]
  },
  {
   "cell_type": "code",
   "execution_count": null,
   "id": "f91f58d1",
   "metadata": {},
   "outputs": [],
   "source": [
    "# empty dictionary\n",
    "d1 = {}\n",
    "print(d1)\n",
    "# 1D dictionary\n",
    "d2 = {'name':'azeem','age':18,'gender':'male'}\n",
    "print(d2)\n",
    "# dictionary with mixed key values\n",
    "d3 = {(1,2,3):1,'hello':'world'}\n",
    "print(d3)\n",
    "# 2D dictionary --> JSON file contain data like this\n",
    "d4 = {\n",
    "    'name':'azeem',\n",
    "    'identity':{\n",
    "        'hair':'black',\n",
    "        'skin color':'white',\n",
    "        'clothes':'pent shirt'\n",
    "    }\n",
    "}\n",
    "print(d4)\n",
    "# creating dictionary with built-in dict function\n",
    "d5 = dict(name='azeem',age=18,gender='male') # python through an error because i use dict keyword as a variable\n",
    "print(d5)\n",
    "# duplicate key values are not allowed\n",
    "d6 = {'name':'azeem','name':'ahmad'} # it only print one key value pair and first is ignored\n",
    "print(d6)\n",
    "# dictionary don't allow mutable keys\n",
    "# d7 = {['1,2,3']:1,(1,2,3):2} # python through an error\n",
    "# print(d7)"
   ]
  },
  {
   "cell_type": "markdown",
   "id": "904fd219",
   "metadata": {},
   "source": [
    "##### b. Accessing items:"
   ]
  },
  {
   "cell_type": "code",
   "execution_count": null,
   "id": "49023950",
   "metadata": {},
   "outputs": [
    {
     "name": "stdout",
     "output_type": "stream",
     "text": [
      "azeem\n",
      "18\n",
      "{'name': 'azeem', 'identity': {'hair': 'black', 'skin color': 'white', 'clothes': 'pent shirt'}}\n",
      "black\n"
     ]
    }
   ],
   "source": [
    "my_dict = {'name':'azeem','age':18}\n",
    "# on the basis of indexing we are not able to fetch or access any item from the dictionary, because index has no meaning,\n",
    "# so on the other hand we use 2 methods to fetch items from the dictionary\n",
    "# method 1 --> [] --> enter the key and get their value\n",
    "print(my_dict['name'])\n",
    "# method 2 --> get function --> enter the key get the value, similar to method 1\n",
    "print(my_dict.get('age'))\n",
    "# accessing items from 2D Dictionary\n",
    "print(d4)\n",
    "print(d4['identity']['hair'])"
   ]
  },
  {
   "cell_type": "markdown",
   "id": "ab152ad3",
   "metadata": {},
   "source": [
    "##### c. Adding key-value pair:"
   ]
  },
  {
   "cell_type": "code",
   "execution_count": 116,
   "id": "09a86780",
   "metadata": {},
   "outputs": [
    {
     "name": "stdout",
     "output_type": "stream",
     "text": [
      "{'name': 'azeem', 'age': 18, 'gender': 'male', 'weight': 40}\n",
      "{'name': 'azeem', 'identity': {'hair': 'black', 'skin color': 'white', 'clothes': 'pent shirt', 'shoes': 'softy'}}\n"
     ]
    }
   ],
   "source": [
    "# here is the syntax to add the new key-value pair in the existing dictionary\n",
    "my_dict = {'name':'azeem','age':18}\n",
    "my_dict['gender'] = 'male'\n",
    "my_dict['weight'] = 40\n",
    "print(my_dict)\n",
    "# Adding key value pair in 2D dictionary\n",
    "d4['identity']['shoes'] = 'softy'\n",
    "print(d4)"
   ]
  },
  {
   "cell_type": "markdown",
   "id": "b5a678fa",
   "metadata": {},
   "source": [
    "##### d. Remove key-value pair:"
   ]
  },
  {
   "cell_type": "code",
   "execution_count": 117,
   "id": "056fbae0",
   "metadata": {},
   "outputs": [
    {
     "name": "stdout",
     "output_type": "stream",
     "text": [
      "{'age': 18, 'gender': 'male', 'weight': 40}\n",
      "{'age': 18, 'gender': 'male'}\n",
      "{'gender': 'male'}\n",
      "{}\n",
      "{'name': 'azeem', 'identity': {'hair': 'black', 'skin color': 'white', 'shoes': 'softy'}}\n"
     ]
    }
   ],
   "source": [
    "my_dict = {'name':'azeem','age':18,'gender':'male','weight':40}\n",
    "# pop function remove the key value pair when we pass the key\n",
    "my_dict.pop('name')\n",
    "print(my_dict)\n",
    "# popitem function automatically remove the last key value pair from the dictionary\n",
    "my_dict.popitem()\n",
    "print(my_dict)\n",
    "# del function remove the whole dictionary but also allow us to remove the specific key value pair\n",
    "del my_dict['age']\n",
    "print(my_dict)\n",
    "# clear function remove all the key value pair and make the dictionary empty\n",
    "my_dict.clear()\n",
    "print(my_dict)\n",
    "# removing key value pair from 2D dictionary\n",
    "del d4['identity']['clothes']\n",
    "print(d4)"
   ]
  },
  {
   "cell_type": "markdown",
   "id": "a4ae236e",
   "metadata": {},
   "source": [
    "##### e. Editing key value pair:"
   ]
  },
  {
   "cell_type": "code",
   "execution_count": 119,
   "id": "6c1f78c2",
   "metadata": {},
   "outputs": [
    {
     "name": "stdout",
     "output_type": "stream",
     "text": [
      "{'name': 'ahmad', 'age': 18, 'gender': 'male', 'weight': 40}\n",
      "{'name': 'azeem', 'identity': {'hair': 'black', 'skin color': 'white', 'shoes': 'jogar'}}\n"
     ]
    }
   ],
   "source": [
    "my_dict = {'name':'azeem','age':18,'gender':'male','weight':40}\n",
    "my_dict['name'] = 'ahmad'\n",
    "print(my_dict)\n",
    "d4['identity']['shoes'] = 'jogar'\n",
    "print(d4)"
   ]
  },
  {
   "cell_type": "markdown",
   "id": "7b3279b2",
   "metadata": {},
   "source": [
    "##### f. Dictionary Operations:\n",
    " - Membership\n",
    " - Iteration"
   ]
  },
  {
   "cell_type": "code",
   "execution_count": 132,
   "id": "350d1ed4",
   "metadata": {},
   "outputs": [
    {
     "name": "stdout",
     "output_type": "stream",
     "text": [
      "True\n",
      "False\n",
      "name azeem\n",
      "age 18\n",
      "gender male\n",
      "weight 40\n"
     ]
    }
   ],
   "source": [
    "my_dict = {'name':'azeem','age':18,'gender':'male','weight':40}\n",
    "# membership operators work on key values\n",
    "print('name' in my_dict)\n",
    "print('name' not in my_dict)\n",
    "# iteration also work on keys\n",
    "for i in my_dict:\n",
    "    print(i,my_dict[i]) # this is the smart way to also print values with keys"
   ]
  },
  {
   "cell_type": "markdown",
   "id": "569049a9",
   "metadata": {},
   "source": [
    "##### g. Dictionary Functions:"
   ]
  },
  {
   "cell_type": "code",
   "execution_count": null,
   "id": "85afa2fb",
   "metadata": {},
   "outputs": [
    {
     "name": "stdout",
     "output_type": "stream",
     "text": [
      "4\n",
      "age\n",
      "weight\n",
      "['weight', 'name', 'gender', 'age']\n"
     ]
    }
   ],
   "source": [
    "# len / min / max / sorted functions\n",
    "my_dict = {'name':'azeem','age':18,'gender':'male','weight':40}\n",
    "print(len(my_dict)) # tell the length by counting key values only\n",
    "print(min(my_dict)) # both min and max values come on the basis of ascii value\n",
    "print(max(my_dict))\n",
    "print(sorted(my_dict,reverse=True))"
   ]
  },
  {
   "cell_type": "code",
   "execution_count": 140,
   "id": "89dbe45e",
   "metadata": {},
   "outputs": [
    {
     "name": "stdout",
     "output_type": "stream",
     "text": [
      "dict_items([('name', 'azeem'), ('age', 18), ('gender', 'male'), ('weight', 40)])\n",
      "dict_keys(['name', 'age', 'gender', 'weight'])\n",
      "dict_values(['azeem', 18, 'male', 40])\n"
     ]
    }
   ],
   "source": [
    "# items / keys / values functions, these functions are super useful and use a lot\n",
    "my_dict = {'name':'azeem','age':18,'gender':'male','weight':40}\n",
    "print(my_dict.items()) # can convert the dict to list and convert each value pair into tuples\n",
    "print(my_dict.keys()) # print all the keys in list\n",
    "print(my_dict.values()) # print all the values in list"
   ]
  },
  {
   "cell_type": "code",
   "execution_count": 142,
   "metadata": {},
   "outputs": [
    {
     "name": "stdout",
     "output_type": "stream",
     "text": [
      "{1: 2, 2: 3, 4: 7, 6: 8}\n"
     ]
    }
   ],
   "source": [
    "# update function allow you to update the given dictionary with the specific dictionary\n",
    "d1 = {1:2,2:3,4:4}\n",
    "d2 = {4:7,6:8}\n",
    "d1.update(d2)\n",
    "print(d1)"
   ]
  },
  {
   "cell_type": "markdown",
   "id": "c1033c2d",
   "metadata": {},
   "source": [
    "### 8. Dictionary Comprehension\n"
   ]
  },
  {
   "cell_type": "code",
   "execution_count": 143,
   "id": "2a6fc61d",
   "metadata": {},
   "outputs": [
    {
     "data": {
      "text/plain": [
       "{1: 1, 2: 4, 3: 9, 4: 16, 5: 25, 6: 36, 7: 49, 8: 64, 9: 81, 10: 100}"
      ]
     },
     "execution_count": 143,
     "metadata": {},
     "output_type": "execute_result"
    }
   ],
   "source": [
    "# print 1st 10 numbers and their squares\n",
    "{i:i**2 for i in range(1,11)}"
   ]
  },
  {
   "cell_type": "code",
   "execution_count": 144,
   "id": "ce4f49c3",
   "metadata": {},
   "outputs": [
    {
     "data": {
      "text/plain": [
       "{'delhi': 620.0, 'mumbai': 1240.0, 'kolkata': 1860.0}"
      ]
     },
     "execution_count": 144,
     "metadata": {},
     "output_type": "execute_result"
    }
   ],
   "source": [
    "# how to run a dictionary comprehension on existing dictionary\n",
    "distances = {'delhi':1000,'mumbai':2000,'kolkata':3000}\n",
    "{key:value*0.62 for (key,value) in distances.items()}"
   ]
  },
  {
   "cell_type": "code",
   "execution_count": null,
   "id": "cc468f4f",
   "metadata": {},
   "outputs": [
    {
     "data": {
      "text/plain": [
       "{'monday': 35.0,\n",
       " 'tuesday': 33.2,\n",
       " 'wednesday': 40.4,\n",
       " 'thursday': 25.6,\n",
       " 'friday': 38.9,\n",
       " 'saturday': 42.1,\n",
       " 'sunday': 43.5}"
      ]
     },
     "execution_count": 146,
     "metadata": {},
     "output_type": "execute_result"
    }
   ],
   "source": [
    "# creating a dictionary through zip function and dictionary comprehension\n",
    "days = ['monday','tuesday','wednesday','thursday','friday','saturday','sunday']\n",
    "temp_C = [35.0,33.2,40.4,25.6,38.9,42.1,43.5]\n",
    "{i:j for (i,j) in zip(days,temp_C)}"
   ]
  },
  {
   "cell_type": "code",
   "execution_count": 147,
   "id": "c1d41fd3",
   "metadata": {},
   "outputs": [
    {
     "data": {
      "text/plain": [
       "{'phone': 10, 'laptop': 15, 'headphones': 20}"
      ]
     },
     "execution_count": 147,
     "metadata": {},
     "output_type": "execute_result"
    }
   ],
   "source": [
    "# using if condition\n",
    "products = {'phone':10,'tablet':5,'laptop':15,'headphones':20}\n",
    "{key:value for (key,value) in products.items() if value > 5}"
   ]
  },
  {
   "cell_type": "code",
   "execution_count": 148,
   "id": "d5bb05eb",
   "metadata": {},
   "outputs": [
    {
     "data": {
      "text/plain": [
       "{2: {1: 2, 2: 4, 3: 6, 4: 8, 5: 10, 6: 12, 7: 14, 8: 16, 9: 18, 10: 20},\n",
       " 3: {1: 3, 2: 6, 3: 9, 4: 12, 5: 15, 6: 18, 7: 21, 8: 24, 9: 27, 10: 30},\n",
       " 4: {1: 4, 2: 8, 3: 12, 4: 16, 5: 20, 6: 24, 7: 28, 8: 32, 9: 36, 10: 40}}"
      ]
     },
     "execution_count": 148,
     "metadata": {},
     "output_type": "execute_result"
    }
   ],
   "source": [
    "# Nested Comprehension\n",
    "# print tables of number from 2 to 4\n",
    "{i:{j:i*j for j in range(1,11)} for i in range(2,5)}"
   ]
  }
 ],
 "metadata": {
  "kernelspec": {
   "display_name": "exploratory_data_analysis",
   "language": "python",
   "name": "python3"
  },
  "language_info": {
   "codemirror_mode": {
    "name": "ipython",
    "version": 3
   },
   "file_extension": ".py",
   "mimetype": "text/x-python",
   "name": "python",
   "nbconvert_exporter": "python",
   "pygments_lexer": "ipython3",
   "version": "3.13.5"
  }
 },
 "nbformat": 4,
 "nbformat_minor": 5
}
