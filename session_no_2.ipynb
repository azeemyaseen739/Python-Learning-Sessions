{
 "cells": [
  {
   "cell_type": "markdown",
   "id": "cd79e061",
   "metadata": {},
   "source": [
    "## Session No: 2 --> Operators, If-else statements, Loops\n",
    "## This Notebook is Presented By: **Azeem Yaseen**\n",
    "## Date: 27 - 08 - 2025\n",
    "## Email: azeemyaseen739@gmail.com"
   ]
  },
  {
   "cell_type": "markdown",
   "id": "3ad529b1",
   "metadata": {},
   "source": [
    "### 1. Operators in Python\n",
    " - In python, operators are symbol or keywords that perform specific operation on two or more values and variables, known as operands. ex --> 2 + 2 = 4\n",
    " - There are 6 types of operator in python;"
   ]
  },
  {
   "cell_type": "markdown",
   "id": "7a56d717",
   "metadata": {},
   "source": [
    "#### a. Arithematic Operators (+, -, *, /, %, //, **):"
   ]
  },
  {
   "cell_type": "code",
   "execution_count": null,
   "id": "0d6d1d76",
   "metadata": {},
   "outputs": [],
   "source": [
    "print(5 + 6) # addition operator\n",
    "print(5 * 6) # subtraction operator\n",
    "print(5 - 6) # multiplication operator\n",
    "print(5 / 6) # division operator\n",
    "print(5 // 6) # interger division or floor division operator, it removes the decimal point\n",
    "print(5 % 6) # modulus operator, it divide the numbers and show their reminder\n",
    "print(5 ** 6) # exponential operator, it means 5*5*5*5*5*5"
   ]
  },
  {
   "cell_type": "markdown",
   "id": "4ddabff3",
   "metadata": {},
   "source": [
    "#### b. Relational Operators (> , <, >=, <=, ==, !=):"
   ]
  },
  {
   "cell_type": "code",
   "execution_count": null,
   "id": "b2b071bf",
   "metadata": {},
   "outputs": [],
   "source": [
    "# to compare things we use relational operator\n",
    "print(4 > 5) # greater than operator\n",
    "print(4 < 5) # less than operator\n",
    "print(4 >= 5) # greater than equal to operator\n",
    "print(4 <= 5) # less than equal to operator\n",
    "print(4 == 5) # equal equal to operator\n",
    "print(4 != 5) # not equal to operator"
   ]
  },
  {
   "cell_type": "markdown",
   "id": "a1216d93",
   "metadata": {},
   "source": [
    "#### c. Logical Operators (and, or, not):"
   ]
  },
  {
   "cell_type": "code",
   "execution_count": null,
   "id": "6fbd7cc5",
   "metadata": {},
   "outputs": [],
   "source": [
    "# this operators are so useful and helpful in logic building while making programs\n",
    "print(1 and 0) # both condition has to be true, otherwise it print 0 means false\n",
    "print(1 or 1) # one condition has to be true, if both wrong then 0, if both correct then 1\n",
    "print(not 1) # convert 0 to 1 and 1 to zero"
   ]
  },
  {
   "cell_type": "markdown",
   "id": "a09fb4c1",
   "metadata": {},
   "source": [
    "#### d. Bitwise Operators (and, or, xor, not, right shift, left shift):"
   ]
  },
  {
   "cell_type": "code",
   "execution_count": null,
   "id": "70d97d24",
   "metadata": {},
   "outputs": [],
   "source": [
    "# bitwise are special operators that operate on binary values\n",
    "# bitwise and operator, first python convert the numbers into binary language, then apply the\n",
    "# operator, and the final pattern that form, then convert that pattern into decimal and print on terminal.\n",
    "print(2 & 3)\n",
    "print(2 | 3) # bitwise or operator\n",
    "print(2 ^ 3) # bitwise xor operator, if both values same then 0, and when different then 1\n",
    "print(~ 3) # bitwise not operator\n",
    "print(2 >> 3) # bitwise left shift operator\n",
    "print(2 << 3) # bitwise right shift operator\n",
    "# if you work on image processing, and computer vision projects, then may be you use bitwise or\n",
    "# and bitwise and."
   ]
  },
  {
   "cell_type": "markdown",
   "id": "11b124e8",
   "metadata": {},
   "source": [
    "#### e. Assignment Operator (=):"
   ]
  },
  {
   "cell_type": "code",
   "execution_count": null,
   "id": "942827a0",
   "metadata": {},
   "outputs": [],
   "source": [
    "# assignment operator is use to assign a value to a variable\n",
    "# you are able to use assignment operator by different ways, like with other operators\n",
    "a = 2\n",
    "a += 2 # it means, a = a + 2, you use any operator instead of additional operator\n",
    "print(a)"
   ]
  },
  {
   "cell_type": "markdown",
   "id": "c7730085",
   "metadata": {},
   "source": [
    "#### f. Membership Operators (in, not in):"
   ]
  },
  {
   "cell_type": "code",
   "execution_count": null,
   "id": "b3286b97",
   "metadata": {},
   "outputs": [],
   "source": [
    "# membership operators are stylish operator, these operators tell that the given thing present\n",
    "# in the given statement or not, it is so useful, these operators also work on other data types.\n",
    "print('d' in 'delhi')\n",
    "print('D' in 'delhi') # membership operator is case sensitive\n",
    "print(1 in [1,2,3,4,5])\n",
    "print(1 in (1,2,3,4,5))"
   ]
  },
  {
   "cell_type": "markdown",
   "id": "bc702006",
   "metadata": {},
   "source": [
    "##### Program - Find the sum of a 3 digit number entered by the user"
   ]
  },
  {
   "cell_type": "code",
   "execution_count": 4,
   "id": "6befe53c",
   "metadata": {},
   "outputs": [
    {
     "name": "stdout",
     "output_type": "stream",
     "text": [
      "1 + 2 + 3 = 6\n"
     ]
    }
   ],
   "source": [
    "num = input('enter the 3 digit number: ')\n",
    "num_len = len(num)\n",
    "\n",
    "if num_len != 3:\n",
    "    print('Invalid input enter the 3 digit number!')\n",
    "else:\n",
    "    num1 = num[0]\n",
    "    num2 = num[1]\n",
    "    num3= num[2]\n",
    "\n",
    "    result = int(num1) + int(num2) + int(num3)\n",
    "    print(f'{num1} + {num2} + {num3} = {result}')"
   ]
  },
  {
   "cell_type": "markdown",
   "id": "83de176a",
   "metadata": {},
   "source": [
    "### 2. if-else Statement in Python\n",
    " - It is necessay in every programming language, without it programming is not possible. The program execute from top to botton, when the branching create in the program, means program see two options or conditions, then to handle that branching we use if-else statement.\\\n",
    "**Identation:**\n",
    " - The core philosophy of python is that code is well structured and readable and understandle for the user. Other language use brackets in if-else, but use identation space. Python understand through indentation that this block of code is under this statement.\\\n",
    "**Elif Statement:**\n",
    " - When we need poosibilities more than 2 in the program then we use elif statement.\\\n",
    "**Nested if-else:**\n",
    " - When we need 2 condition inside a condition then we use nested if else."
   ]
  },
  {
   "cell_type": "markdown",
   "id": "8ff91041",
   "metadata": {},
   "source": [
    "##### Program - User login through their credentials program"
   ]
  },
  {
   "cell_type": "code",
   "execution_count": 8,
   "id": "abf5a95c",
   "metadata": {},
   "outputs": [
    {
     "name": "stdout",
     "output_type": "stream",
     "text": [
      "Congratulation! Go into your profile\n"
     ]
    }
   ],
   "source": [
    "# correct email --> hello@gmail.com\n",
    "# correct password --> 1234\n",
    "email = input('enter the email address: ')\n",
    "password = input('enter the password: ')\n",
    "\n",
    "if email == 'hello@gmail.com' and password == '1234':\n",
    "    print('Congratulation! Go into your profile')\n",
    "elif email == 'hello@gmail.com' and password != '1234':\n",
    "    print('your email is correct but password is wrong!')\n",
    "    password = input('enter the password again: ')\n",
    "    if password == '1234':\n",
    "        print('you get the access of your account!')\n",
    "    else:\n",
    "        print('beta tujh sai na hoga!')\n",
    "else:\n",
    "    print('Error: Wrong Credentials!')"
   ]
  },
  {
   "cell_type": "markdown",
   "id": "14673236",
   "metadata": {},
   "source": [
    "##### Program - find the min of 3 given numbers"
   ]
  },
  {
   "cell_type": "code",
   "execution_count": 16,
   "id": "bc1bce05",
   "metadata": {},
   "outputs": [
    {
     "name": "stdout",
     "output_type": "stream",
     "text": [
      "smallest number is 0\n"
     ]
    }
   ],
   "source": [
    "num1 = int(input('enter the value of number 1: '))\n",
    "num2 = int(input('enter the value of number 2: '))\n",
    "num3 = int(input('enter the value of number 3: '))\n",
    "\n",
    "if num1 < num2 and num1 < num3:\n",
    "    print('the smallest number is',num1)\n",
    "elif num2 < num3:\n",
    "    print('smallest number is',num2)\n",
    "else:\n",
    "    print('smallest number is',num3)"
   ]
  },
  {
   "cell_type": "markdown",
   "id": "37bbc5e8",
   "metadata": {},
   "source": [
    "##### Program - Menu Driven Calculator"
   ]
  },
  {
   "cell_type": "code",
   "execution_count": 9,
   "id": "6f6fb31a",
   "metadata": {},
   "outputs": [
    {
     "name": "stdout",
     "output_type": "stream",
     "text": [
      "-----Menu Driven Calculator-----\n",
      "**************************************************\n",
      "what type of operator you want to use: +, -, *, /\n",
      "Invalid Operator!\n"
     ]
    }
   ],
   "source": [
    "print('-----Menu Driven Calculator-----')\n",
    "print('*'*50)\n",
    "num1 = float(input('enter the value of number 1: '))\n",
    "num2 = float(input('enter the value of number 2: '))\n",
    "print('what type of operator you want to use: +, -, *, /')\n",
    "operator = input('enter the operator: ')\n",
    "\n",
    "if operator == '+':\n",
    "    result = num1 + num2\n",
    "    print(f'{num1} + {num2} = {result}')\n",
    "elif operator == '-':\n",
    "    result = num1 - num2\n",
    "    print(f'{num1} - {num2} = {result}')\n",
    "elif operator == '*':\n",
    "    result = num1 * num2\n",
    "    print(f'{num1} * {num2} = {result}')\n",
    "if operator == '/':\n",
    "    if num2 == 0:\n",
    "        print('Division with zero not allowed!')\n",
    "    else:\n",
    "        result = num1 / num2\n",
    "        print(f'{num1} / {num2} = {result}')\n",
    "else:\n",
    "    print('Invalid Operator!')"
   ]
  },
  {
   "cell_type": "markdown",
   "id": "a4f4f841",
   "metadata": {},
   "source": [
    "### 3. Modules in Python\n",
    " - Module is basically a python file that contain someone written functions, & we are able to import the module in python code to use that functions to buld amazing things and make the work fast and smart rather than build these functions from scratch. These are the example modules that contain the useful functions.\n",
    "1. math\n",
    "2. random\n",
    "3. keyword\n",
    "4. datetime"
   ]
  },
  {
   "cell_type": "code",
   "execution_count": 12,
   "id": "c5f72653",
   "metadata": {},
   "outputs": [
    {
     "data": {
      "text/plain": [
       "14.0"
      ]
     },
     "execution_count": 12,
     "metadata": {},
     "output_type": "execute_result"
    }
   ],
   "source": [
    "# 1- math module, it contain useful mathematical functions that save time\n",
    "import math\n",
    "math.factorial(5)\n",
    "math.floor(6.8)\n",
    "math.sqrt(196)"
   ]
  },
  {
   "cell_type": "code",
   "execution_count": 13,
   "id": "ee681c77",
   "metadata": {},
   "outputs": [
    {
     "name": "stdout",
     "output_type": "stream",
     "text": [
      "['False', 'None', 'True', 'and', 'as', 'assert', 'async', 'await', 'break', 'class', 'continue', 'def', 'del', 'elif', 'else', 'except', 'finally', 'for', 'from', 'global', 'if', 'import', 'in', 'is', 'lambda', 'nonlocal', 'not', 'or', 'pass', 'raise', 'return', 'try', 'while', 'with', 'yield']\n"
     ]
    }
   ],
   "source": [
    "# 2- keyword module, to see the python reserved keywords\n",
    "import keyword\n",
    "print(keyword.kwlist)"
   ]
  },
  {
   "cell_type": "code",
   "execution_count": 14,
   "id": "e22cba22",
   "metadata": {},
   "outputs": [
    {
     "name": "stdout",
     "output_type": "stream",
     "text": [
      "10\n"
     ]
    }
   ],
   "source": [
    "# 3- random module, to generate the random number\n",
    "import random\n",
    "print(random.randint(1,100))"
   ]
  },
  {
   "cell_type": "code",
   "execution_count": 18,
   "id": "c5589ca0",
   "metadata": {},
   "outputs": [
    {
     "name": "stdout",
     "output_type": "stream",
     "text": [
      "2025-08-27 17:50:44.883256\n"
     ]
    }
   ],
   "source": [
    "# 4- datetime module, it contain datetime functions that we learn while learning pandas\n",
    "import datetime\n",
    "print(datetime.datetime.now())"
   ]
  },
  {
   "cell_type": "code",
   "execution_count": null,
   "id": "fb29495b",
   "metadata": {},
   "outputs": [],
   "source": [
    "# to see all the modules that the python support and contain\n",
    "help('modules')"
   ]
  },
  {
   "cell_type": "markdown",
   "id": "bb7784b3",
   "metadata": {},
   "source": [
    "### 4. Loops in Python\n",
    " - In python, a loop is a control flow statement that allows a block of code to repeatedly executed. This repetition continues either a specified number of times (as in a for loop) or as long as a certain condition remains true (as in a while loop).\\\n",
    "**What is the need of loops:**\n",
    " - Iterating through a list of items to perform the same action, such as calculating the average score for each student in a class by repeatedly reading and summing their scores.\n",
    " - Repeating an action until a specific condition is met, like an ATM machine dispensing cash until the requested amount is fully dispensed.\\\n",
    "**Else Statement with loops:**\n",
    " - Python allow us to use else statement with loops."
   ]
  },
  {
   "cell_type": "markdown",
   "id": "a30ff214",
   "metadata": {},
   "source": [
    "##### Program - to print the table"
   ]
  },
  {
   "cell_type": "code",
   "execution_count": 25,
   "id": "5945d2ae",
   "metadata": {},
   "outputs": [
    {
     "name": "stdout",
     "output_type": "stream",
     "text": [
      "5 x 1 = 5\n",
      "5 x 2 = 10\n",
      "5 x 3 = 15\n",
      "5 x 4 = 20\n",
      "5 x 5 = 25\n",
      "5 x 6 = 30\n",
      "5 x 7 = 35\n",
      "5 x 8 = 40\n",
      "5 x 9 = 45\n",
      "5 x 10 = 50\n"
     ]
    }
   ],
   "source": [
    "n = int(input('enter the value of n: '))\n",
    "\n",
    "for i in range(1,10+1):\n",
    "    print(n,'x',i,'=',n * i)"
   ]
  },
  {
   "cell_type": "markdown",
   "id": "97a0ca8f",
   "metadata": {},
   "source": [
    "##### Program - keep accepting numbers from the user till the user enters 0 and then tell the sum and average"
   ]
  },
  {
   "cell_type": "code",
   "execution_count": 26,
   "id": "2570c564",
   "metadata": {},
   "outputs": [
    {
     "name": "stdout",
     "output_type": "stream",
     "text": [
      "the sum is 34.0\n",
      "the average is 4.25\n"
     ]
    }
   ],
   "source": [
    "sum = 0\n",
    "count = 1\n",
    "\n",
    "while True:\n",
    "    num = float(input('enter the number (0 to stop): '))\n",
    "    if num == 0:\n",
    "        break\n",
    "    else:\n",
    "        sum = sum + num\n",
    "        count = count + 1\n",
    "if count > 0:\n",
    "    average = sum / count\n",
    "else:\n",
    "    average = 0\n",
    "\n",
    "print(f'the sum is {sum}')\n",
    "print(f'the average is {average}')"
   ]
  },
  {
   "cell_type": "code",
   "execution_count": 27,
   "id": "96870606",
   "metadata": {},
   "outputs": [
    {
     "name": "stdout",
     "output_type": "stream",
     "text": [
      "1\n",
      "2\n",
      "limit crossed!\n"
     ]
    }
   ],
   "source": [
    "# while loop with else\n",
    "x = 1\n",
    "\n",
    "while x < 3:\n",
    "    print(x)\n",
    "    x = x + 1\n",
    "else:\n",
    "    print('limit crossed!')"
   ]
  },
  {
   "cell_type": "markdown",
   "id": "c2c33b90",
   "metadata": {},
   "source": [
    "##### Program - Jacpot number guessing game"
   ]
  },
  {
   "cell_type": "code",
   "execution_count": 33,
   "id": "ac4c1845",
   "metadata": {},
   "outputs": [
    {
     "name": "stdout",
     "output_type": "stream",
     "text": [
      "think lower\n",
      "think higher\n",
      "think higher\n",
      "think lower\n",
      "Congratulation you guessed the right number in 5 attempts\n"
     ]
    }
   ],
   "source": [
    "import random\n",
    "jackpot_num = random.randint(1,100)\n",
    "attempts = 0\n",
    "\n",
    "while True:\n",
    "    guess = int(input('enter your guess: '))\n",
    "    attempts = attempts + 1\n",
    "    if guess > jackpot_num:\n",
    "        print('think lower')\n",
    "    elif guess < jackpot_num:\n",
    "        print('think higher')\n",
    "    else:\n",
    "        print('Congratulation you guessed the right number in',attempts,'attempts')\n",
    "        break"
   ]
  },
  {
   "cell_type": "code",
   "execution_count": null,
   "id": "9578eec8",
   "metadata": {},
   "outputs": [],
   "source": [
    "# for loop is so easy compare to other programming languages and so powerful\n",
    "# 1 to 11 is range and 2 is the step size\n",
    "# for loop is also work on other data types as well, it is also flexible\n",
    "for i in range(10,0,-1):\n",
    "    print(i)\n",
    "for i in 'delhi':\n",
    "    print(i)\n",
    "for i in [1,2,3,4,5]:\n",
    "    print(i)"
   ]
  },
  {
   "cell_type": "markdown",
   "id": "2a0b4888",
   "metadata": {},
   "source": [
    "##### Program - The current population of a town is 10000. The population of the town is increasing at the rate of 10% per year. You have to write a program to find out the population at the end of each of the last 10 years."
   ]
  },
  {
   "cell_type": "code",
   "execution_count": 57,
   "id": "2bd403d5",
   "metadata": {},
   "outputs": [
    {
     "name": "stdout",
     "output_type": "stream",
     "text": [
      "10 10000\n",
      "9 9000.0\n",
      "8 8100.0\n",
      "7 7290.0\n",
      "6 6561.0\n",
      "5 5904.9\n",
      "4 5314.41\n",
      "3 4782.969\n",
      "2 4304.6721\n",
      "1 3874.20489\n"
     ]
    }
   ],
   "source": [
    "current_pop = 10000\n",
    "\n",
    "for i in range(10,0,-1):\n",
    "    print(i,current_pop)\n",
    "    current_pop = current_pop - 10/100 * current_pop\n"
   ]
  }
 ],
 "metadata": {
  "kernelspec": {
   "display_name": "exploratory_data_analysis",
   "language": "python",
   "name": "python3"
  },
  "language_info": {
   "codemirror_mode": {
    "name": "ipython",
    "version": 3
   },
   "file_extension": ".py",
   "mimetype": "text/x-python",
   "name": "python",
   "nbconvert_exporter": "python",
   "pygments_lexer": "ipython3",
   "version": "3.13.5"
  }
 },
 "nbformat": 4,
 "nbformat_minor": 5
}
