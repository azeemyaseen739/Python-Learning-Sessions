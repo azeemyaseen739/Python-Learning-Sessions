{
 "cells": [
  {
   "cell_type": "markdown",
   "id": "5d97b323",
   "metadata": {},
   "source": [
    "## Session No: 3 --> Remaining loops, & Python Strings in Detail\n",
    "## This Notebook is Presented By: **Azeem Yaseen**\n",
    "## Date: 28 - 08 - 2025\n",
    "## Email: azeemyaseen739@gmail.com"
   ]
  },
  {
   "cell_type": "markdown",
   "id": "ae915e0b",
   "metadata": {},
   "source": [
    "##### Program - The current population of a town is 10000. The population of the town is increasing at the rate of 10% per year. You have to write a program to find out the population at the end of each of the last 10 years."
   ]
  },
  {
   "cell_type": "code",
   "execution_count": 3,
   "id": "dccc7046",
   "metadata": {},
   "outputs": [
    {
     "name": "stdout",
     "output_type": "stream",
     "text": [
      "10 year >>> 10000\n",
      "9 year >>> 9090.90909090909\n",
      "8 year >>> 8264.462809917353\n",
      "7 year >>> 7513.148009015775\n",
      "6 year >>> 6830.134553650703\n",
      "5 year >>> 6209.213230591548\n",
      "4 year >>> 5644.739300537771\n",
      "3 year >>> 5131.5811823070635\n",
      "2 year >>> 4665.07380209733\n",
      "1 year >>> 4240.976183724845\n"
     ]
    }
   ],
   "source": [
    "# 9th years population is x and when we add 10% of ninth year into x then we get the 10000.\n",
    "# ninth year = x, 10% of ninth year = 0.1x, when we add both, then 1.1x, x = 10000/1.1\n",
    "current_pop = 10000\n",
    "\n",
    "for i in range(10,0,-1):\n",
    "    print(i,'year >>>',current_pop)\n",
    "    current_pop = current_pop / 1.1"
   ]
  },
  {
   "cell_type": "markdown",
   "id": "27596885",
   "metadata": {},
   "source": [
    "##### Sequence sum\n",
    " - find the sum till nth term\n",
    " - 1/1! + 2/2! + 3/3! + ...."
   ]
  },
  {
   "cell_type": "code",
   "execution_count": 8,
   "id": "e75ffeb1",
   "metadata": {},
   "outputs": [
    {
     "name": "stdout",
     "output_type": "stream",
     "text": [
      "2.708333333333333\n"
     ]
    }
   ],
   "source": [
    "import math\n",
    "n = int(input('enter the value of n: '))\n",
    "fact = 1\n",
    "sum = 0\n",
    "\n",
    "for i in range(1,n+1):\n",
    "    fact = fact * i\n",
    "    term = i / fact\n",
    "    sum = sum + term\n",
    "print(sum)"
   ]
  },
  {
   "cell_type": "markdown",
   "id": "43a11583",
   "metadata": {},
   "source": [
    "##### **Sir Nitish Advice:** \n",
    " - If you struggle to solve a complex problem, then break the problem into small small problems, and solve one and move to the other, by this way the problem solved in the end.\n",
    " - Don't jump in the tool to code, first try to write your logic on the paper with pencil, first understand then problem then go to write code, **don't directly code.**"
   ]
  },
  {
   "cell_type": "markdown",
   "id": "2d827e50",
   "metadata": {},
   "source": [
    "### 1. Nested Loops\n",
    " - Sometime we required to run nested loops, loop inside loop. Ex --> the principle of the school say you that you have to print every student name of every class present in school. Then you use nested loops to run first loop on classes, then and second loop on every student of the class."
   ]
  },
  {
   "cell_type": "code",
   "execution_count": 1,
   "id": "50cd3eb1",
   "metadata": {},
   "outputs": [
    {
     "name": "stdout",
     "output_type": "stream",
     "text": [
      "1 1\n",
      "1 2\n",
      "1 3\n",
      "1 4\n",
      "2 1\n",
      "2 2\n",
      "2 3\n",
      "2 4\n",
      "3 1\n",
      "3 2\n",
      "3 3\n",
      "3 4\n",
      "4 1\n",
      "4 2\n",
      "4 3\n",
      "4 4\n"
     ]
    }
   ],
   "source": [
    "# print the unique pairs\n",
    "for i in range(1,5):\n",
    "    for j in range(1,5):\n",
    "        print(i,j)"
   ]
  },
  {
   "cell_type": "markdown",
   "id": "0c074501",
   "metadata": {},
   "source": [
    "##### Pattern 1:\n",
    "```\n",
    "* \n",
    "* * \n",
    "* * * \n",
    "* * * * \n",
    "* * * * * \n",
    "```"
   ]
  },
  {
   "cell_type": "code",
   "execution_count": 4,
   "id": "e93dbd48",
   "metadata": {},
   "outputs": [
    {
     "name": "stdout",
     "output_type": "stream",
     "text": [
      "* \n",
      "* * \n",
      "* * * \n",
      "* * * * \n",
      "* * * * * \n"
     ]
    }
   ],
   "source": [
    "rows = int(input('enter no of rows: '))\n",
    "for i in range(1,rows+1):\n",
    "    for j in range(i):\n",
    "        print('*',end=' ')\n",
    "    print()"
   ]
  },
  {
   "cell_type": "markdown",
   "id": "2bd71391",
   "metadata": {},
   "source": [
    "##### Pattern 2:\n",
    "```\n",
    "1 \n",
    "1 2 1 \n",
    "1 2 3 2 1 \n",
    "1 2 3 4 3 2 1\n",
    "```"
   ]
  },
  {
   "cell_type": "code",
   "execution_count": 15,
   "id": "7ecb0a62",
   "metadata": {},
   "outputs": [
    {
     "name": "stdout",
     "output_type": "stream",
     "text": [
      "1 \n",
      "1 2 1 \n",
      "1 2 3 2 1 \n",
      "1 2 3 4 3 2 1 \n"
     ]
    }
   ],
   "source": [
    "rows = int(input('enter the no of rows: '))\n",
    "\n",
    "for i in range(1,rows):\n",
    "    for j in range(1,i):\n",
    "        print(j,end=' ')\n",
    "    for k in range(i,0,-1):\n",
    "        print(k,end=' ')\n",
    "    print()"
   ]
  },
  {
   "cell_type": "markdown",
   "id": "8f03d409",
   "metadata": {},
   "source": [
    "### 2. Loop Control Statement\n",
    "1. **Break:**\n",
    " - We break the loop when the specific condition met in the loop. Ex --> When we do searching in a database, means we find a particular person in millions of people, then when he find we break the loop.\n",
    "2. **Continue:**\n",
    " - When the loop face the continue statement, then loop can skip the current iteration in the loop. Ex --> in a ecommerce website, you don't want to display those product that don't have stocks, so you can skip those products through continue statement.\n",
    "3. **Pass:**\n",
    " - You want to run the loop, but you don't the know the input yet. So you can use the pass statement in the loop to tell the python that don't throw an error."
   ]
  },
  {
   "cell_type": "markdown",
   "id": "f14526b8",
   "metadata": {},
   "source": [
    "##### a. Break Statement"
   ]
  },
  {
   "cell_type": "code",
   "execution_count": 17,
   "id": "95ecfc72",
   "metadata": {},
   "outputs": [
    {
     "name": "stdout",
     "output_type": "stream",
     "text": [
      "1\n",
      "2\n",
      "3\n",
      "4\n"
     ]
    }
   ],
   "source": [
    "# break statement\n",
    "for i in range(1,10):\n",
    "    if i == 5:\n",
    "        break\n",
    "    print(i)"
   ]
  },
  {
   "cell_type": "markdown",
   "id": "6c4266a0",
   "metadata": {},
   "source": [
    "##### Program - Identify the prime numbers from the user given range"
   ]
  },
  {
   "cell_type": "code",
   "execution_count": 29,
   "id": "342612be",
   "metadata": {},
   "outputs": [
    {
     "name": "stdout",
     "output_type": "stream",
     "text": [
      "1\n",
      "2\n",
      "3\n",
      "5\n"
     ]
    }
   ],
   "source": [
    "start = int(input('enter the starting number: '))\n",
    "end = int(input('enter the ending number: '))\n",
    "\n",
    "for i in range(start,end+1):\n",
    "    for j in range(2,i):\n",
    "        if i % j == 0:\n",
    "            break\n",
    "    else:\n",
    "        print(i)"
   ]
  },
  {
   "cell_type": "markdown",
   "id": "77c28716",
   "metadata": {},
   "source": [
    "##### b. Continue Statement"
   ]
  },
  {
   "cell_type": "code",
   "execution_count": 31,
   "id": "965b846b",
   "metadata": {},
   "outputs": [
    {
     "name": "stdout",
     "output_type": "stream",
     "text": [
      "1\n",
      "2\n",
      "4\n"
     ]
    }
   ],
   "source": [
    "# continue statement\n",
    "for i in range(1,5):\n",
    "    if i == 3:\n",
    "        continue\n",
    "    print(i)"
   ]
  },
  {
   "cell_type": "markdown",
   "id": "940bbe8f",
   "metadata": {},
   "source": [
    "##### c. Pass Statement"
   ]
  },
  {
   "cell_type": "code",
   "execution_count": 33,
   "id": "03f2a2d6",
   "metadata": {},
   "outputs": [],
   "source": [
    "for i in range(1,10):\n",
    "    pass"
   ]
  },
  {
   "cell_type": "markdown",
   "id": "cee7f2db",
   "metadata": {},
   "source": [
    "### 3. Python Strings\n",
    " - In Python specifically, strings are a sequence of Unicode characters\n",
    "1. Creating Strings\n",
    "2. Accessing Strings\n",
    "3. Editing Strings & Deleting Strings\n",
    "4. Operations on strings\n",
    "5. string functions"
   ]
  },
  {
   "cell_type": "markdown",
   "id": "f087fc59",
   "metadata": {},
   "source": [
    "##### Creating Strings:"
   ]
  },
  {
   "cell_type": "code",
   "execution_count": null,
   "id": "46c4f761",
   "metadata": {},
   "outputs": [
    {
     "name": "stdout",
     "output_type": "stream",
     "text": [
      "Hell'o world\n"
     ]
    }
   ],
   "source": [
    "s = 'hello' # you use it commonly\n",
    "s = \"hello\" # you use when you need a inverted comman with the word like it's, what's\n",
    "s = '''Hello world''' # you use when you need to write a long string that take multiple lines\n",
    "s = \"\"\"hello world\"\"\" # this is also valid\n",
    "s = str('hello') # you can create string by this way also\n",
    "print(s)"
   ]
  },
  {
   "cell_type": "markdown",
   "id": "9cfc4ebf",
   "metadata": {},
   "source": [
    "##### Accessing Strings:\n",
    "**Indexing:**\n",
    " - When ever we create a string in python, python can automatically assign index to each character of the string, and python indexing start from zero.\\\n",
    "**Positive Indexing:**\n",
    " - If the indexing move from left to right, from zero to onward, then this indexing is Positive Indexing.\\\n",
    "**Negative Indexing:**\n",
    " - Python is flexible, so it also offer negative indexing, negative indexing deal with negative numbers that move from right to left. We use this indexing to extract the last and second last character, we don't need to know the length of the string to extract the character.\\\n",
    "**Slicing:**\n",
    " - We use slicing the extract the sub string from the string. In Slicing we gain use the positive and negative indexing."
   ]
  },
  {
   "cell_type": "code",
   "execution_count": null,
   "id": "1b6215d0",
   "metadata": {},
   "outputs": [
    {
     "name": "stdout",
     "output_type": "stream",
     "text": [
      "h\n",
      "d\n"
     ]
    }
   ],
   "source": [
    "# python indexing start from zero\n",
    "s = 'hello world' # whenever you create a string, python will assign indexing to it\n",
    "print(s[0]) # positive indexing\n",
    "print(s[-1]) # negative indexing"
   ]
  },
  {
   "cell_type": "code",
   "execution_count": null,
   "id": "4c01996a",
   "metadata": {},
   "outputs": [
    {
     "name": "stdout",
     "output_type": "stream",
     "text": [
      "hello\n",
      "lo world\n",
      "hel\n",
      "hello world\n",
      "hlo\n",
      "w olle\n",
      "wol\n",
      "dlrow olleh\n",
      "world\n",
      "dlrow\n"
     ]
    }
   ],
   "source": [
    "s = 'hello world'\n",
    "print(s[0:5])\n",
    "print(s[3:])\n",
    "print(s[:3])\n",
    "print(s[:]) # print the whole string\n",
    "print(s[0:6:2]) # 2 is the step size\n",
    "print(s[6:0:-1]) # when step size is negative then 1st no should be big\n",
    "print(s[6:0:-2])\n",
    "print(s[::-1]) # to reverse the given string\n",
    "print(s[-5:]) #  we write indexing left to right, whatever the indexing is positive or negative\n",
    "print(s[-1:-6:-1]) # in negative indexing the 1st no should be big, -1 is bigger than -6 in negative"
   ]
  },
  {
   "cell_type": "markdown",
   "id": "bd2172db",
   "metadata": {},
   "source": [
    "##### Editing & Deleting in String:"
   ]
  },
  {
   "cell_type": "code",
   "execution_count": null,
   "id": "7c2c5871",
   "metadata": {},
   "outputs": [],
   "source": [
    "# editing\n",
    "s = 'hello world'\n",
    "# s[0] = 'H' --> strings are immutable in python, don't be modifyable after creation\n",
    "\n",
    "# deleting the string\n",
    "del s # after this s will be deleted from the python code, and you don't able to print it again"
   ]
  },
  {
   "cell_type": "markdown",
   "id": "d50fed10",
   "metadata": {},
   "source": [
    "##### Operations on Strings\n",
    " - Arithematic Operators (+, *)\n",
    " - Relational Operators (>,<,>=,<=,==,!=)\n",
    " - Logical Operators (and, or, not)\n",
    " - Loops on strings (for)\n",
    " - Membership Operators (in, not in)"
   ]
  },
  {
   "cell_type": "code",
   "execution_count": null,
   "id": "f3d58fcd",
   "metadata": {},
   "outputs": [
    {
     "name": "stdout",
     "output_type": "stream",
     "text": [
      "delhimumbai\n",
      "delhidelhidelhidelhidelhi\n"
     ]
    }
   ],
   "source": [
    "# arithematic operators\n",
    "print('delhi' + 'mumbai') # for concatenation\n",
    "print('delhi' * 5)\n",
    "print('*' * 50) # it is useful in string formating sometimes"
   ]
  },
  {
   "cell_type": "code",
   "execution_count": 43,
   "id": "b8374aeb",
   "metadata": {},
   "outputs": [
    {
     "name": "stdout",
     "output_type": "stream",
     "text": [
      "False\n",
      "True\n",
      "True\n",
      "False\n",
      "True\n"
     ]
    }
   ],
   "source": [
    "# relational operator\n",
    "print('delhi' == 'mumbai')\n",
    "print('delhi' != 'mumbai')\n",
    "print('delhi' == 'delhi')\n",
    "# how pune is greater than mumbai, python compare strings through laxiographically, it means \n",
    "# python compare strings through their ascii value, there is a table of ascii values of all \n",
    "# characters, in the table p ascii value is greater than m ascii value\n",
    "print('mumbai' > 'pune')\n",
    "print('mumbai' < 'pune')\n"
   ]
  },
  {
   "cell_type": "code",
   "execution_count": null,
   "id": "f1487e48",
   "metadata": {},
   "outputs": [
    {
     "data": {
      "text/plain": [
       "'world'"
      ]
     },
     "execution_count": 44,
     "metadata": {},
     "output_type": "execute_result"
    }
   ],
   "source": [
    "# logical operator\n",
    "# if the string is empty then in python point of view it is false, otherwise true\n",
    "# and operator work when both values are true, python check one and then second, when second is\n",
    "# true it print the second means world\n",
    "'hello' and 'world'"
   ]
  },
  {
   "cell_type": "code",
   "execution_count": null,
   "id": "571c9cec",
   "metadata": {},
   "outputs": [
    {
     "data": {
      "text/plain": [
       "'hello'"
      ]
     },
     "execution_count": 45,
     "metadata": {},
     "output_type": "execute_result"
    }
   ],
   "source": [
    "# or operator one value true, when python check that 1st value is true, it print true value\n",
    "# immediately means 'hello'\n",
    "'hello' or 'world'"
   ]
  },
  {
   "cell_type": "code",
   "execution_count": null,
   "id": "1e2a7225",
   "metadata": {},
   "outputs": [
    {
     "data": {
      "text/plain": [
       "False"
      ]
     },
     "execution_count": 48,
     "metadata": {},
     "output_type": "execute_result"
    }
   ],
   "source": [
    "# it convert true into false and false into true, 'hello' is true so it print false\n",
    "not 'hello'"
   ]
  },
  {
   "cell_type": "code",
   "execution_count": 51,
   "id": "39098fcd",
   "metadata": {},
   "outputs": [
    {
     "name": "stdout",
     "output_type": "stream",
     "text": [
      "d\n",
      "e\n",
      "l\n",
      "h\n",
      "i\n"
     ]
    }
   ],
   "source": [
    "# loops on string\n",
    "for i in 'delhi':\n",
    "    print(i)"
   ]
  },
  {
   "cell_type": "code",
   "execution_count": 55,
   "id": "c9516153",
   "metadata": {},
   "outputs": [
    {
     "data": {
      "text/plain": [
       "True"
      ]
     },
     "execution_count": 55,
     "metadata": {},
     "output_type": "execute_result"
    }
   ],
   "source": [
    "# membership operators\n",
    "'D' in 'Delhi'\n",
    "'D' in 'delhi' # it give false because it is case sensitive\n",
    "'p' not in 'delhi'"
   ]
  },
  {
   "cell_type": "markdown",
   "id": "f6ecad29",
   "metadata": {},
   "source": [
    "##### String Functions:\n",
    " - Some common functions that we use so much in data science work that we do in python, and they work on all the data types, \n",
    " - min\n",
    " - max\n",
    " - len\n",
    " - sorted"
   ]
  },
  {
   "cell_type": "code",
   "execution_count": 56,
   "id": "b157455a",
   "metadata": {},
   "outputs": [
    {
     "data": {
      "text/plain": [
       "11"
      ]
     },
     "execution_count": 56,
     "metadata": {},
     "output_type": "execute_result"
    }
   ],
   "source": [
    "# len function, use to find the length of the string including the space\n",
    "len('hello world')"
   ]
  },
  {
   "cell_type": "code",
   "execution_count": 57,
   "id": "2a5bb77b",
   "metadata": {},
   "outputs": [
    {
     "data": {
      "text/plain": [
       "'w'"
      ]
     },
     "execution_count": 57,
     "metadata": {},
     "output_type": "execute_result"
    }
   ],
   "source": [
    "# max function, use to find the occured character of the string on the basis of ascii value\n",
    "max('hello world')"
   ]
  },
  {
   "cell_type": "code",
   "execution_count": null,
   "id": "fa36f7d4",
   "metadata": {},
   "outputs": [],
   "source": [
    "# min function, use to find the occured character of the string on the basis of ascii value\n",
    "min('hello world')"
   ]
  },
  {
   "cell_type": "code",
   "execution_count": 59,
   "id": "46707468",
   "metadata": {},
   "outputs": [
    {
     "data": {
      "text/plain": [
       "['w', 'r', 'o', 'o', 'l', 'l', 'l', 'h', 'e', 'd', ' ']"
      ]
     },
     "execution_count": 59,
     "metadata": {},
     "output_type": "execute_result"
    }
   ],
   "source": [
    "# sorted function, use to arrange all the characters of the given string into ascending order,\n",
    "# on the basis of ascii value, we are able to change the order to descending, it's output in list\n",
    "sorted('hello world', reverse=True)"
   ]
  },
  {
   "cell_type": "markdown",
   "id": "332ec24f",
   "metadata": {},
   "source": [
    "##### Functions that are only work on strings:"
   ]
  },
  {
   "cell_type": "markdown",
   "id": "3796139a",
   "metadata": {},
   "source": [
    " - We learn this that strings are immutable, then we apply these functions to make changes in the string, let's understand what python do, python don't make changes in the original string it form a new object and make changes on that object that see in the output.\n",
    " - capitalize\n",
    " - title\n",
    " - upper\n",
    " - lower\n",
    " - swapcase"
   ]
  },
  {
   "cell_type": "code",
   "execution_count": 60,
   "id": "b0c37cee",
   "metadata": {},
   "outputs": [
    {
     "data": {
      "text/plain": [
       "'Hello world'"
      ]
     },
     "execution_count": 60,
     "metadata": {},
     "output_type": "execute_result"
    }
   ],
   "source": [
    "# capitalize function, use to capitalize the first letter of the word that is present in the string\n",
    "s = 'hello world'\n",
    "s.capitalize()"
   ]
  },
  {
   "cell_type": "code",
   "execution_count": 61,
   "id": "ec9f01f3",
   "metadata": {},
   "outputs": [
    {
     "data": {
      "text/plain": [
       "'Hello World'"
      ]
     },
     "execution_count": 61,
     "metadata": {},
     "output_type": "execute_result"
    }
   ],
   "source": [
    "# title function, use to capitalize the first letter of each word in the given string\n",
    "s = 'hello world'\n",
    "s.title()"
   ]
  },
  {
   "cell_type": "code",
   "execution_count": null,
   "id": "018c5bec",
   "metadata": {},
   "outputs": [
    {
     "data": {
      "text/plain": [
       "'HELLO WORLD'"
      ]
     },
     "execution_count": 62,
     "metadata": {},
     "output_type": "execute_result"
    }
   ],
   "source": [
    "# upper function, use to convert all the letters to uppercase\n",
    "s = 'hello world'\n",
    "s.upper()"
   ]
  },
  {
   "cell_type": "code",
   "execution_count": 63,
   "id": "c9cc04c5",
   "metadata": {},
   "outputs": [
    {
     "data": {
      "text/plain": [
       "'hello world'"
      ]
     },
     "execution_count": 63,
     "metadata": {},
     "output_type": "execute_result"
    }
   ],
   "source": [
    "# lower function, use to convert all the letters to lowercase\n",
    "s = 'hello world'\n",
    "s.lower()"
   ]
  },
  {
   "cell_type": "code",
   "execution_count": 64,
   "id": "c81a3f07",
   "metadata": {},
   "outputs": [
    {
     "data": {
      "text/plain": [
       "'hELlO wORlD'"
      ]
     },
     "execution_count": 64,
     "metadata": {},
     "output_type": "execute_result"
    }
   ],
   "source": [
    "# swapcase function, use to convert the capital to lower and lower to capital\n",
    "s = 'HelLo WorLd'\n",
    "s.swapcase()"
   ]
  },
  {
   "cell_type": "markdown",
   "id": "fe244f64",
   "metadata": {},
   "source": [
    " - count\n",
    " - index\n",
    " - find"
   ]
  },
  {
   "cell_type": "code",
   "execution_count": 20,
   "id": "8a55e56b",
   "metadata": {},
   "outputs": [
    {
     "name": "stdout",
     "output_type": "stream",
     "text": [
      "2\n"
     ]
    }
   ],
   "source": [
    "# count function, use to find the occurence of the specific character or word in the string\n",
    "print('hello world'.count('o'))"
   ]
  },
  {
   "cell_type": "code",
   "execution_count": 2,
   "id": "873200ce",
   "metadata": {},
   "outputs": [
    {
     "name": "stdout",
     "output_type": "stream",
     "text": [
      "11\n"
     ]
    }
   ],
   "source": [
    "# find function, use to find the index of the character or word in the string\n",
    "print('hy my name is azeem'.find('is'))"
   ]
  },
  {
   "cell_type": "code",
   "execution_count": null,
   "id": "2fe881b6",
   "metadata": {},
   "outputs": [
    {
     "name": "stdout",
     "output_type": "stream",
     "text": [
      "11\n"
     ]
    }
   ],
   "source": [
    "# index function, use to find the index of the character or word in the string\n",
    "# the main difference between find and index is, when you search something that don't present\n",
    "# in the given string the find can return -1 and index can return error\n",
    "print('hy my name is azeem'.index('is'))"
   ]
  },
  {
   "cell_type": "markdown",
   "id": "1ad0bf74",
   "metadata": {},
   "source": [
    " - endswith\n",
    " - startswith"
   ]
  },
  {
   "cell_type": "code",
   "execution_count": null,
   "id": "0408ac4d",
   "metadata": {},
   "outputs": [
    {
     "name": "stdout",
     "output_type": "stream",
     "text": [
      "True\n"
     ]
    }
   ],
   "source": [
    "# endswith function, use to check that the given string end on a specific word or not\n",
    "print('hy my name is azeem'.endswith('azeem'))"
   ]
  },
  {
   "cell_type": "code",
   "execution_count": 5,
   "id": "64705d16",
   "metadata": {},
   "outputs": [
    {
     "name": "stdout",
     "output_type": "stream",
     "text": [
      "True\n"
     ]
    }
   ],
   "source": [
    "# startswith function, use to check that the given string start from the specific word or not\n",
    "print('hy my name is azeem'.startswith('hy'))\n"
   ]
  },
  {
   "cell_type": "markdown",
   "id": "e9a05fc6",
   "metadata": {},
   "source": [
    " - format"
   ]
  },
  {
   "cell_type": "code",
   "execution_count": 7,
   "id": "ef07f9d2",
   "metadata": {},
   "outputs": [
    {
     "name": "stdout",
     "output_type": "stream",
     "text": [
      "hy my name is azeem and i am 18 years old\n"
     ]
    }
   ],
   "source": [
    "# format function, use to put the values of variable directly in the string of the print function\n",
    "name = 'azeem'\n",
    "age = 18\n",
    "\n",
    "print('hy my name is {} and i am {} years old'.format(name,age))"
   ]
  },
  {
   "cell_type": "markdown",
   "id": "03ef0e75",
   "metadata": {},
   "source": [
    " - isalnum\n",
    " - isalpha\n",
    " - isdigit\n",
    " - isidentifier"
   ]
  },
  {
   "cell_type": "code",
   "execution_count": 8,
   "id": "64d5d7b5",
   "metadata": {},
   "outputs": [
    {
     "name": "stdout",
     "output_type": "stream",
     "text": [
      "True\n"
     ]
    }
   ],
   "source": [
    "# isalnum function, use to check that the given string is alpha numeric or not\n",
    "print('azeem123'.isalnum())"
   ]
  },
  {
   "cell_type": "code",
   "execution_count": 9,
   "id": "60e093c4",
   "metadata": {},
   "outputs": [
    {
     "name": "stdout",
     "output_type": "stream",
     "text": [
      "True\n"
     ]
    }
   ],
   "source": [
    "# isalpha function, use to check that the given string is alphabetic or not\n",
    "print('azeem'.isalpha())"
   ]
  },
  {
   "cell_type": "code",
   "execution_count": 10,
   "id": "9f747c06",
   "metadata": {},
   "outputs": [
    {
     "name": "stdout",
     "output_type": "stream",
     "text": [
      "True\n"
     ]
    }
   ],
   "source": [
    "# isdigit function, use to check that the given string is numeric or not\n",
    "print('123'.isdigit())"
   ]
  },
  {
   "cell_type": "code",
   "execution_count": 11,
   "id": "39c13365",
   "metadata": {},
   "outputs": [
    {
     "name": "stdout",
     "output_type": "stream",
     "text": [
      "True\n"
     ]
    }
   ],
   "source": [
    "# isidentifier function, use to check that the given string fulfill the rules of indentifier\n",
    "print('first_name'.isidentifier())"
   ]
  },
  {
   "cell_type": "markdown",
   "id": "f5ece2dd",
   "metadata": {},
   "source": [
    " - These functions are so interesting and useful and we also use so much in python programs\n",
    " - split\n",
    " - join"
   ]
  },
  {
   "cell_type": "code",
   "execution_count": null,
   "id": "3902dada",
   "metadata": {},
   "outputs": [
    {
     "name": "stdout",
     "output_type": "stream",
     "text": [
      "['hy', 'my', 'name', 'is', 'azeem']\n"
     ]
    }
   ],
   "source": [
    "# split function can split the string into space and comma separated parts, and we are able to\n",
    "# extract those parts to use in the program, the output come in list\n",
    "s = 'hy my name is azeem'.split('i') # also break on the basis of specific character\n",
    "print(s)"
   ]
  },
  {
   "cell_type": "code",
   "execution_count": 14,
   "id": "20eb41cd",
   "metadata": {},
   "outputs": [
    {
     "name": "stdout",
     "output_type": "stream",
     "text": [
      "['hy', 'my', 'name', 'is', 'azeem']\n",
      "hy my name is azeem\n"
     ]
    }
   ],
   "source": [
    "# join function can join the space and comma separated parts, and convert the string into their\n",
    "# orginal shape\n",
    "s = 'hy my name is azeem'.split()\n",
    "print(s)\n",
    "print(' '.join(s))"
   ]
  },
  {
   "cell_type": "markdown",
   "id": "bfa10845",
   "metadata": {},
   "source": [
    " - replace"
   ]
  },
  {
   "cell_type": "code",
   "execution_count": null,
   "id": "65a0bb15",
   "metadata": {},
   "outputs": [
    {
     "name": "stdout",
     "output_type": "stream",
     "text": [
      "hy i am data scientist\n"
     ]
    }
   ],
   "source": [
    "# replace function is use to replace the particular sub string to the given word\n",
    "s = 'hy i am azeem'.replace('azeem','data scientist')\n",
    "print(s)"
   ]
  },
  {
   "cell_type": "markdown",
   "id": "60cd9219",
   "metadata": {},
   "source": [
    " - strip"
   ]
  },
  {
   "cell_type": "code",
   "execution_count": null,
   "id": "22ded8fa",
   "metadata": {},
   "outputs": [
    {
     "name": "stdout",
     "output_type": "stream",
     "text": [
      "nitish\n"
     ]
    }
   ],
   "source": [
    "# strip function is use to remove the extra spaces from the left and right side of the string,\n",
    "# not the spaces present between words, the software and website developer use\n",
    "print('nitish                   '.strip()) # this function remove all the trilling spaces\n"
   ]
  }
 ],
 "metadata": {
  "kernelspec": {
   "display_name": "exploratory_data_analysis",
   "language": "python",
   "name": "python3"
  },
  "language_info": {
   "codemirror_mode": {
    "name": "ipython",
    "version": 3
   },
   "file_extension": ".py",
   "mimetype": "text/x-python",
   "name": "python",
   "nbconvert_exporter": "python",
   "pygments_lexer": "ipython3",
   "version": "3.13.5"
  }
 },
 "nbformat": 4,
 "nbformat_minor": 5
}
