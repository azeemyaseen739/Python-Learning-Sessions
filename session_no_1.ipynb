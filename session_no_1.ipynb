{
 "cells": [
  {
   "cell_type": "markdown",
   "id": "d2f33a3e",
   "metadata": {},
   "source": [
    "## Session No: 1 --> Python Fundamentals\n",
    "## This Notebook is Presented By: Azeem yaseen\n",
    "## Date: 26 - 08 - 2025\n",
    "## Email: azeemyaseen739@gmail.com"
   ]
  },
  {
   "cell_type": "markdown",
   "id": "fcb372cf",
   "metadata": {},
   "source": [
    "### Why Python becomes so famous:\n",
    " - There are some key factors that make python famous;\n",
    "1. **Design Philosophy:**\n",
    " - Python design is so beautiful. Python code looks well-intended and structured. Python is probably the most easy to learn programming language. Python personality is so well commng, and allow the new learners to make mistakes and learn from mistakes. Python give you confidence to write programs with confidence. Python is a easy going language.\n",
    "2. **Batteries Included:**\n",
    " - Python come up with so useful built-in function that allow the user to write programs in an easy or faster way. The user don't have to rebuilt those functions from scratch, only use those function to build amazing things. The philosophy is don't reinvent the wheel use the wheel to build cars.\n",
    "3. **General Purpose:**\n",
    " - Python is the general purpose programming language means python support multiple programming paradigms. The user able to do procedural programming, functional programming with python. The user able to build softwares, applications, programs, and able to work in more domains also with python. Learning python is so worthful, it help you to serve in other domains also. Python capabilities and libraries help you to work in different domains.\n",
    "4. **Libraries & Big Community Support:**\n",
    " - Libraries is like a python file that contain functions that are so useful, and the user is able to use that specific functions for free in their code. Python can contain so much libraries that allow python to serve in multiple domains. The big community support is so well comming, and well come new user with so much resources to learn python. This big community make new tools and libraries and enhance the capabilities of python and solve all the problems of python. This community make the python open source for everyone."
   ]
  },
  {
   "cell_type": "markdown",
   "id": "140dad3a",
   "metadata": {},
   "source": [
    "### Why python is so famous in the field of Data Science:\n",
    " - There are some factors that make python famous in the field of data science;\n",
    "1. **Easy to Learn:**\n",
    " - In previous time the data statisticians and mathematicians can do data science work, at some time they need the programming language to convert their alogorithms into softwares. At that point they choose python because they see that python is so easy to learn language. The peoples that also come from different domains in data science they start choosing python for it's simplicity.\n",
    "2. **Proximity with Math:**\n",
    " - Python built in 1991, python use in scientific computing in their initial time, because python have the functions and libraries related to mathematics.\n",
    "3. **Libraries & Big Community Support:**\n",
    " - When the people that come from different domains start learning python language, then the community gorws slowly, then the community convert into a python family, then this family build tools and libraries that make work easy of data science. At this time other languages take years to come at the place where the python is in the field of data science."
   ]
  },
  {
   "cell_type": "markdown",
   "id": "2bbc1801",
   "metadata": {},
   "source": [
    "### What is the difference between python & R language?\n",
    " - R language is the good language and contain very good libraries that very good in graphical representation. If someone want to go in PHD and M.tech then choose R language, because researchers always prefer R language to collect primary data.\n",
    " - But on the otherhand python is the industry level programming language, python is so important for the job interview. Python is the overall best language.\n",
    "### why python is slow in compare to other programming languages?\n",
    " - Yes python native data structures are slow, but python have the numpy library that contain andi-array with made with C languages, the andi-array is very very fast.\n",
    " - Python is also a interpreted programming languages, this is also a reason that it is slow, because interpreter execute the code line by line."
   ]
  },
  {
   "cell_type": "markdown",
   "id": "52dfd62b",
   "metadata": {},
   "source": [
    "### 1. Print Function"
   ]
  },
  {
   "cell_type": "code",
   "execution_count": null,
   "id": "d6e3cc42",
   "metadata": {},
   "outputs": [
    {
     "name": "stdout",
     "output_type": "stream",
     "text": [
      "Hello World\n",
      "salman khan \n",
      "7\n",
      "7.5\n",
      "True\n",
      "hello world 1234 7.5 True\n",
      "hello-1234-7.5-True\n",
      "hello-world\n"
     ]
    }
   ],
   "source": [
    "# In python every function contain their manual that tell us how to use that function.\n",
    "# print function allow us to print anything in the output terminal\n",
    "# python is the case sensitive language\n",
    "# string contain inverted commas arround otherwise python don't understand that this is string\n",
    "print('Hello World')\n",
    "print('salman khan ')\n",
    "# print function also print multiple datatype values\n",
    "print(7) # int data type\n",
    "print(7.5) # float data type\n",
    "print(True) # boolean data type\n",
    "print('hello world',1234,7.5,True) # it is pretty flexible to print many things in one shot\n",
    "# There is a parameter separater in print function that contain the defaul value space.\n",
    "# So that's we see space between things, we are able to play with it\n",
    "print('hello',1234,7.5,True,sep='-')\n",
    "# There is a parameter end in print function that contain the defaul value new line.\n",
    "# That's why every print function print their value in the next line.\n",
    "print('hello',end='-')\n",
    "print('world')"
   ]
  },
  {
   "cell_type": "markdown",
   "id": "614b4120",
   "metadata": {},
   "source": [
    "### 2. Data Types"
   ]
  },
  {
   "cell_type": "code",
   "execution_count": 9,
   "id": "9762e169",
   "metadata": {},
   "outputs": [
    {
     "name": "stdout",
     "output_type": "stream",
     "text": [
      "5\n",
      "1e+308\n",
      "5.5\n",
      "1.5e+308\n",
      "True\n",
      "False\n",
      "hello world\n",
      "5+6j\n",
      "[1, 2, 3, 4, 5]\n",
      "(1, 2, 3, 4, 5)\n",
      "{1, 2, 3, 4, 5}\n",
      "{'name': 'azeem', 'gender': 'male', 'weight': 40}\n",
      "None\n"
     ]
    }
   ],
   "source": [
    "# data types means the how many types of data the language support\n",
    "print(5) # Integer Data Type\n",
    "# python is capable to handle large integers internally, there is no human that do calculations\n",
    "# with this number, this number means 1 * 10^308.\n",
    "print(1e308)\n",
    "print(5.5) # Float data type\n",
    "print(1.5e308) # 1.5*10^308\n",
    "print(True) # Boolean data type, we use this data type in logic building the most\n",
    "print(False)\n",
    "print('hello world') # String data type, string means text\n",
    "print('5+6j') # complex data type, this data type don't use in programs, one part is real and 2nd is imaginary\n",
    "print([1,2,3,4,5]) # List data type -> C -> Array, it works like c array, the idea is same\n",
    "print((1,2,3,4,5)) # list brother is tuple data type\n",
    "print({1,2,3,4,5}) # set data type\n",
    "# dictionary data type, it is important and so useful, it is a key value pairs\n",
    "print({'name':'azeem','gender':'male','weight':40})\n",
    "print(None) # None data type"
   ]
  },
  {
   "cell_type": "markdown",
   "id": "f072ccf3",
   "metadata": {},
   "source": [
    "### Type Function"
   ]
  },
  {
   "cell_type": "code",
   "execution_count": 12,
   "id": "682f9224",
   "metadata": {},
   "outputs": [
    {
     "name": "stdout",
     "output_type": "stream",
     "text": [
      "<class 'int'>\n",
      "<class 'float'>\n",
      "<class 'str'>\n",
      "<class 'bool'>\n",
      "<class 'list'>\n"
     ]
    }
   ],
   "source": [
    "# In type function whatever data we pass, it detects and tell us the type of data, it is so useful\n",
    "print(type(2))\n",
    "print(type(3.5))\n",
    "print(type('hello world'))\n",
    "print(type(True))\n",
    "print(type([1,2,3,4,5]))"
   ]
  },
  {
   "cell_type": "markdown",
   "id": "b17d25f4",
   "metadata": {},
   "source": [
    "### 3. Variables\n",
    " - **Variables** are like containers that store data for future use. When you don't know what input the user can provide, so we use variables to store that input and then use that information.\n",
    " - These Questions also ask in Interviews\n",
    "#### Static Vs Dynamic Typing\n",
    " - Static Typing means we specify the data type of the variable, the static typed languages are C, C++, java, where we declare the type of data of the variable.\n",
    " - Dynamic Typing means we don't specify the data type of the variable, the interpreter is intelligent enough to identify the data type during run time. Python support ynamic typing. That's why we say python is a dunamically typed programming language.\n",
    "#### Static Vs Dynamic Binding\n",
    " - Static Binding means we don't able to override the data type of the variable after creation, if we do this we see an error. C, C++, java, these languages support static binding, because they support static typing.\n",
    " - Dynamic Binding means we are able to override with data of the variable, the variable don't have the fixed data type, we are able to change the data type, but python can delete the previous value and update the new value, otherwise it goes confused. python support dnamic binding, because it support dynamic typing.\n"
   ]
  },
  {
   "cell_type": "code",
   "execution_count": null,
   "id": "f590765f",
   "metadata": {},
   "outputs": [
    {
     "name": "stdout",
     "output_type": "stream",
     "text": [
      "azeem\n",
      "11\n"
     ]
    }
   ],
   "source": [
    "# This is static typing where we declare the type of data during variable creation\n",
    "# In C/C++, java\n",
    "# int name = 'azeem';\n",
    "\n",
    "# in python we don't specify the data type, python is intelligent enough to identify the data type\n",
    "# at run time, in python when we need the variable we directly make that variable\n",
    "name = 'azeem'\n",
    "print(name)\n",
    "\n",
    "a = 5\n",
    "b = 6\n",
    "print(a + b)"
   ]
  },
  {
   "cell_type": "code",
   "execution_count": null,
   "id": "3e9618e0",
   "metadata": {},
   "outputs": [
    {
     "name": "stdout",
     "output_type": "stream",
     "text": [
      "5\n",
      "azeem\n"
     ]
    }
   ],
   "source": [
    "# Dynamic binding\n",
    "a = 5\n",
    "print(a)\n",
    "a = 'azeem'\n",
    "print(a)\n",
    "\n",
    "# static binding, we don't able to override the data type of the variable\n",
    "# int a = 5;"
   ]
  },
  {
   "cell_type": "code",
   "execution_count": 19,
   "id": "1c7f0d9f",
   "metadata": {},
   "outputs": [
    {
     "name": "stdout",
     "output_type": "stream",
     "text": [
      "1 2 3\n",
      "5 5 5\n"
     ]
    }
   ],
   "source": [
    "# variable declaration techniques\n",
    "a = 1\n",
    "b = 2\n",
    "c = 3\n",
    "a,b,c = 1,2,3\n",
    "print(a,b,c)\n",
    "\n",
    "a=b=c= 5\n",
    "print(a,b,c)"
   ]
  },
  {
   "cell_type": "markdown",
   "id": "495075f7",
   "metadata": {},
   "source": [
    "### Comments:\n",
    " - Comments are used to explain the logic of the code to someone, to future yourself also.\n",
    " - Comments is a peace of code that is ignored by the interpreter, We write comments by using the # symbol, we are able to write multiple comments.\n",
    " - Inline comments are those comments that we write in the line of code.\n",
    " - There is a jogar of using multiline comments, but in companies the programmers write comments line by line. In companies the programmer always prefer to write comment above the code at the start of the cell.\n",
    " - **Sir Nitish Advice:** Make the habit of writing comments, even the logic is simple, because there are extraordinary programmers that don't write comments and struggle in team work, because your team members understand your code through comments."
   ]
  },
  {
   "cell_type": "code",
   "execution_count": null,
   "id": "4497def9",
   "metadata": {},
   "outputs": [],
   "source": [
    "# this is the comment\n",
    "a = 5 # this is a inline comment\n",
    "b = 5\n",
    "print(a + b)"
   ]
  },
  {
   "cell_type": "markdown",
   "id": "1891ecd5",
   "metadata": {},
   "source": [
    "### 4. Keywords\n",
    "#### Compilation Process:\n",
    " - Compilation is the process where you convert your code into binary language.\n",
    " - The words that we use in the progamming language those words are english, because english language is the Commonly used International language and everyone can understand it.\n",
    " - This high level code run in the machine, and basically machine is a chip, like my laptop is a machine that contain a chip a process that only understand the binary language (0 and 1).\n",
    " - To convert the code into binary language pattern, this conversion process is called **Compilation Process**.\n",
    " - The interpreter or the compiler can do this compilation.\n",
    " - let's talk about python interpreter, the interpreter understand the code and then convert it into binary. So, to interpreter reserved some words to understand the code. Those words are called **Keywords**.\n",
    " - In python there are 32 reserved keywords, If we use those words in coding as variable name, then interpreter goes confused while converstion, so it throughs an error, we use reserve keywords.\n",
    "#### Compiled Languages Vs Interpreted Languages:\n",
    " - Compiled languages are those languages that convert the whole code collectively. C, C++, java these are compiled languages.\n",
    " - Interpreted languages are those languages that convert the code into binary line by line. Python, Php, these are interpreted languages.\n",
    " - Compiled languages are more faster than interpreted languages.\n",
    "\n",
    "### 4. Identifiers\n",
    " - As a programmer, any type of name that we give to variables, functions, and classes in the program, those names are called **identifiers**.\n",
    " - There are some rules for declaring identifiers;\n",
    "1. You don't start the name of the identifier with the digit.\n",
    "2. You only able to use underscore (_) as a special character in the name, other special characters not allowed.\n",
    "3. You don't use reserved keywords in declaring identifiers."
   ]
  },
  {
   "cell_type": "code",
   "execution_count": null,
   "id": "6b41f605",
   "metadata": {},
   "outputs": [],
   "source": [
    "# 1- 1name = 'azeem', not allowed\n",
    "name1 = 'Azeem'\n",
    "# 2- first-name = 'azeem', not allowed\n",
    "first_name = 'Azeem'\n",
    "_ = 'azeem' # at some places you alse declare the  single and double underscore as a variable\n",
    "# 3- import = 'azeem', not allowed\n",
    "name = 'Azeem'"
   ]
  },
  {
   "cell_type": "markdown",
   "id": "2e157cb0",
   "metadata": {},
   "source": [
    "### 5. User Input\n",
    "#### Static Software Vs Dynamic Software:\n",
    " - Static softwares are those softwares that don't interact with user, ex --> calender, the user don't put any input, user only take the information, clock, blog. These softwares are 1%.\n",
    " - Dynamic Software are those softwares, where the user interact, ex --> google, youtube, these softwares are 99% in today's era.\n",
    "#### why python input unction return value as a string by default?\n",
    " -  String is a universal data type, means string is able to store any type of data, but in oppoite the string don't store in any data type. The user enter any type of data in the input, numbers, complex, any type. So, to don't crash the program python come up with solution to make the string as the default returned value to store any type of data."
   ]
  },
  {
   "cell_type": "markdown",
   "id": "10fd8ae5",
   "metadata": {},
   "source": [
    "**How to do Programming:** Sir Nitish says, first think the code of the program in your mind, then write comments on how you code the program, then start writing the code according to comments.\n",
    "##### Program: Taking 2 numbers from user and then print their sum."
   ]
  },
  {
   "cell_type": "code",
   "execution_count": 12,
   "id": "ae4e6b1e",
   "metadata": {},
   "outputs": [
    {
     "name": "stdout",
     "output_type": "stream",
     "text": [
      "119\n",
      "<class 'int'>\n"
     ]
    }
   ],
   "source": [
    "# taking 2 numbers as input from the user and save them into variables\n",
    "num1 = int(input('enter the first number: '))\n",
    "num2 = int(input('enter the second number: '))\n",
    "# adiing the 2 numbers\n",
    "result = int(num1) + int(num2)\n",
    "# printing the result\n",
    "print(result)\n",
    "print(type(num1)) # original value have the original data type"
   ]
  },
  {
   "cell_type": "markdown",
   "id": "60a689e0",
   "metadata": {},
   "source": [
    "### 6. Type Conversion\n",
    " - Type Conversion is the method to convert one data type into another data type.\n",
    " - There are 2 types of type converstion in python;\n",
    "1. **Implicit Type Conversion:**\n",
    " - In this type conversion the python can automatically convert the lower data type into higher data to prevent data lose.\n",
    "2. **Explicit Type Conversion:**\n",
    " - In this data conversion, we convert the data type that python is don't able to convert, that's why we manually convert. Python have built-in functions for all the data types that help us to convert one data into another.\n",
    " - **How python do type conversion in explicit type conversion:** When we the explicit built-in function in a program, then python can create a new object, a new value and then change their data type for a particular calculation that we want to do in a program, python don't make changes in the original value. If we do type conversion through built-in function while taking input from the user then save the value in variable, then the data type is permanent of the particular value."
   ]
  },
  {
   "cell_type": "code",
   "execution_count": 9,
   "id": "8c527261",
   "metadata": {},
   "outputs": [
    {
     "name": "stdout",
     "output_type": "stream",
     "text": [
      "<class 'int'>\n",
      "<class 'float'>\n",
      "<class 'float'>\n",
      "4\n",
      "4\n",
      "4\n",
      "4.0\n"
     ]
    }
   ],
   "source": [
    "# implicit type conversion\n",
    "a = 5\n",
    "b = 5.5\n",
    "result = (a + b)\n",
    "print(type(a))\n",
    "print(type(b))\n",
    "print(type(result))\n",
    "\n",
    "# explicit type conversion\n",
    "print(int(4.5))\n",
    "print(int('4'))\n",
    "print(str(4))\n",
    "print(float(4))\n",
    "# print(int(4+5j)), this give an error, because in this case the data lose, that python not allowed\n",
    "\n"
   ]
  },
  {
   "cell_type": "markdown",
   "id": "36a6a9e8",
   "metadata": {},
   "source": [
    "### 7. Literals"
   ]
  },
  {
   "cell_type": "code",
   "execution_count": null,
   "id": "ed3f2e86",
   "metadata": {},
   "outputs": [],
   "source": [
    "# the raw value that we store in the variable that is called literal.\n",
    "a = 2 # 2 value is the literal\n",
    "\n",
    "# binary literal, sir nitish personally use this literal in robotics, to program the hardwares\n",
    "# the ob can actually tell the python that this value is in binary\n",
    "a = 0b1010\n",
    "b = 100 # decimal literal, normal representation\n",
    "c = 0o310 # octal literal\n",
    "d = 0x12c # hexa decimal literal, there are different number systems in python\n",
    "\n",
    "# float literals, it is more convinient, you use when you deal with so big and small numbers\n",
    "float_1 = 10.5 # normal way\n",
    "float_2 = 1.5e2 # it is a scientific method, 1.5*10^2\n",
    "float_3 = 1.5e-3 # 1.5*10^-3\n",
    "\n",
    "# complex literal\n",
    "x = 3.14j"
   ]
  },
  {
   "cell_type": "markdown",
   "id": "fb4ca0d2",
   "metadata": {},
   "source": [
    "#### Ways to store string:"
   ]
  },
  {
   "cell_type": "code",
   "execution_count": 17,
   "id": "23a5482d",
   "metadata": {},
   "outputs": [],
   "source": [
    "string = 'this is a string'\n",
    "string = \"this is a also a string\"\n",
    "char = 'C'\n",
    "multiline_str = '''This is a multiline string!'''\n",
    "unicode = u'\\U0001F600\\U0001F4A9'\n",
    "raw_str = r'\\\\bword\\\\b'"
   ]
  },
  {
   "cell_type": "markdown",
   "id": "ed6e68b9",
   "metadata": {},
   "source": [
    "#### Boolean Data Type:"
   ]
  },
  {
   "cell_type": "code",
   "execution_count": 18,
   "id": "2a314b72",
   "metadata": {},
   "outputs": [
    {
     "name": "stdout",
     "output_type": "stream",
     "text": [
      "a: 5\n",
      "b: 10\n"
     ]
    }
   ],
   "source": [
    "a = True + 4 # internally for python true is equal to 1\n",
    "b = False + 10 # internally for python false is equal to 0\n",
    "\n",
    "print('a:',a)\n",
    "print('b:',b)"
   ]
  },
  {
   "cell_type": "markdown",
   "id": "fdf87d4b",
   "metadata": {},
   "source": [
    "#### None Data Type:\n",
    " - We use none data type to prevent ourself from error, because none means nothing. Whenever we need the variables in the program but we don't know the values of the variable yet, so we pass the none value in the variable to take that variable in the program, otherwise without value python give us error, because in python there is no way to declare the variables, that's why we do this.\n",
    " - Sir says none data type is use in machine learning, when we make the algorithms then we don't know the values of variables yet."
   ]
  },
  {
   "cell_type": "code",
   "execution_count": 19,
   "id": "9c261463",
   "metadata": {},
   "outputs": [
    {
     "name": "stdout",
     "output_type": "stream",
     "text": [
      "None\n"
     ]
    }
   ],
   "source": [
    "a = None\n",
    "print(a)"
   ]
  }
 ],
 "metadata": {
  "kernelspec": {
   "display_name": "exploratory_data_analysis",
   "language": "python",
   "name": "python3"
  },
  "language_info": {
   "codemirror_mode": {
    "name": "ipython",
    "version": 3
   },
   "file_extension": ".py",
   "mimetype": "text/x-python",
   "name": "python",
   "nbconvert_exporter": "python",
   "pygments_lexer": "ipython3",
   "version": "3.13.5"
  }
 },
 "nbformat": 4,
 "nbformat_minor": 5
}
